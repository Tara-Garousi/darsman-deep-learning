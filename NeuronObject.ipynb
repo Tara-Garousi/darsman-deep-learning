{
  "nbformat": 4,
  "nbformat_minor": 0,
  "metadata": {
    "colab": {
      "provenance": [],
      "authorship_tag": "ABX9TyP5DgLz3xZqDrB20Qa0c/5N",
      "include_colab_link": true
    },
    "kernelspec": {
      "name": "python3",
      "display_name": "Python 3"
    },
    "language_info": {
      "name": "python"
    }
  },
  "cells": [
    {
      "cell_type": "markdown",
      "metadata": {
        "id": "view-in-github",
        "colab_type": "text"
      },
      "source": [
        "<a href=\"https://colab.research.google.com/github/mehdiabbasidev/darsman-deep-learning/blob/main/NeuronObject.ipynb\" target=\"_parent\"><img src=\"https://colab.research.google.com/assets/colab-badge.svg\" alt=\"Open In Colab\"/></a>"
      ]
    },
    {
      "cell_type": "code",
      "source": [
        "import torch"
      ],
      "metadata": {
        "id": "A9mMObRoqWup"
      },
      "execution_count": 2,
      "outputs": []
    },
    {
      "cell_type": "code",
      "execution_count": 8,
      "metadata": {
        "id": "K41KQ89Ro7Ts"
      },
      "outputs": [],
      "source": [
        "class Neuron:\n",
        "    def __init__(self, n, af='linear'):\n",
        "        self.w = torch.randn(n, requires_grad=True)\n",
        "        self.b = torch.randn(1, requires_grad=True)\n",
        "        self.af = af\n",
        "\n",
        "    def __call__(self, X):\n",
        "        z = self.w @ X + self.b\n",
        "        print(f\"w : {self.w}\")\n",
        "        print(f\"b : {self.b.item()}\")\n",
        "        print(f\"z : {z.item()}\")\n",
        "        match self.af:\n",
        "            case 'linear':\n",
        "                return self.linear(z)\n",
        "            case 'step':\n",
        "                return self.step(z)\n",
        "            case 'relu':\n",
        "                return self.relu(z)\n",
        "            case 'sigmoid':\n",
        "                return self.sigmoid(z)\n",
        "            case _:\n",
        "                raise ValueError(f\"Unsupported activation function: {self.af}\")\n",
        "\n",
        "    def linear(self, x):\n",
        "        return x\n",
        "\n",
        "    def step(self, x):\n",
        "        return (x > 0).float()\n",
        "\n",
        "    def relu(self, x):\n",
        "        return torch.maximum(x, torch.tensor(0.0))      # torch.relu(x)\n",
        "\n",
        "    def sigmoid(self, x):\n",
        "        return 1 / (1 + torch.exp(-x))                  # torch.sigmoid(x)\n"
      ]
    },
    {
      "cell_type": "code",
      "source": [
        "X = torch.tensor([3., 2., 1., 2., 0.])\n",
        "y = torch.tensor([0.3])\n",
        "\n",
        "print(f\"X :\\n{X}\")\n",
        "print(f\"y :\\n{y}\")"
      ],
      "metadata": {
        "id": "fWeEw3KhrA44",
        "colab": {
          "base_uri": "https://localhost:8080/"
        },
        "outputId": "1b3caf54-62e1-4357-8904-a82d2b6066f4"
      },
      "execution_count": 9,
      "outputs": [
        {
          "output_type": "stream",
          "name": "stdout",
          "text": [
            "X :\n",
            "tensor([3., 2., 1., 2., 0.])\n",
            "y :\n",
            "tensor([0.3000])\n"
          ]
        }
      ]
    },
    {
      "cell_type": "code",
      "source": [
        "neuron1 = Neuron(5, 'sigmoid')\n",
        "print(f\"neuron :\\n{neuron1}\")"
      ],
      "metadata": {
        "id": "WmtpNoLLrY7e",
        "colab": {
          "base_uri": "https://localhost:8080/"
        },
        "outputId": "c03106c0-67ad-4e0e-f543-38fe70d7a1ce"
      },
      "execution_count": 16,
      "outputs": [
        {
          "output_type": "stream",
          "name": "stdout",
          "text": [
            "neuron :\n",
            "<__main__.Neuron object at 0x7cf7302ee8c0>\n"
          ]
        }
      ]
    },
    {
      "cell_type": "code",
      "source": [
        "y_pred = neuron1(X)\n",
        "print(f\"y_pred : {y_pred.item()}\")"
      ],
      "metadata": {
        "colab": {
          "base_uri": "https://localhost:8080/"
        },
        "id": "1LOktg8ergfF",
        "outputId": "616df8ae-9ad8-4bc2-8cbc-aa6b62209ac9"
      },
      "execution_count": 17,
      "outputs": [
        {
          "output_type": "stream",
          "name": "stdout",
          "text": [
            "w : tensor([ 0.5370,  1.8492,  0.6938, -0.5032,  1.3542], requires_grad=True)\n",
            "b : 1.3396143913269043\n",
            "z : 6.33629035949707\n",
            "y_pred : 0.9982323050498962\n"
          ]
        }
      ]
    },
    {
      "cell_type": "code",
      "source": [
        "mse_loss=(y_pred- y)**2\n",
        "mse_loss"
      ],
      "metadata": {
        "colab": {
          "base_uri": "https://localhost:8080/"
        },
        "id": "1ibLQb__7DJ4",
        "outputId": "cf032462-0556-48c9-ec00-bf45cec1d68b"
      },
      "execution_count": 18,
      "outputs": [
        {
          "output_type": "execute_result",
          "data": {
            "text/plain": [
              "tensor([0.4875], grad_fn=<PowBackward0>)"
            ]
          },
          "metadata": {},
          "execution_count": 18
        }
      ]
    },
    {
      "cell_type": "code",
      "source": [
        "n2=Neuron(3)\n",
        "y_pred =n2(torch.tensor([1.2,0.23,4.1]))\n",
        "print(f\"y_pred : {y_pred.item()}\")\n",
        "\n",
        "mse_loss=(y_pred- y)**2\n",
        "print(mse_loss)"
      ],
      "metadata": {
        "colab": {
          "base_uri": "https://localhost:8080/"
        },
        "id": "vk658Y-V8dCb",
        "outputId": "9dd9cb89-952e-46e1-8a57-d72b05d2c3b7"
      },
      "execution_count": 23,
      "outputs": [
        {
          "output_type": "stream",
          "name": "stdout",
          "text": [
            "w : tensor([ 0.3288,  1.0608, -0.6226], requires_grad=True)\n",
            "b : -0.35041967034339905\n",
            "z : -2.2646453380584717\n",
            "y_pred : -2.2646453380584717\n",
            "tensor([6.5774], grad_fn=<PowBackward0>)\n"
          ]
        }
      ]
    }
  ]
}