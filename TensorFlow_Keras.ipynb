{
  "nbformat": 4,
  "nbformat_minor": 0,
  "metadata": {
    "colab": {
      "provenance": [],
      "gpuType": "T4",
      "collapsed_sections": [
        "6y0trc-2rDoT",
        "TPa0vpNAZehb"
      ],
      "authorship_tag": "ABX9TyOxh9ENnPoqP9LVid+3DwWr",
      "include_colab_link": true
    },
    "kernelspec": {
      "name": "python3",
      "display_name": "Python 3"
    },
    "language_info": {
      "name": "python"
    },
    "accelerator": "GPU"
  },
  "cells": [
    {
      "cell_type": "markdown",
      "metadata": {
        "id": "view-in-github",
        "colab_type": "text"
      },
      "source": [
        "<a href=\"https://colab.research.google.com/github/mehdiabbasidev/darsman-deep-learning/blob/main/TensorFlow_Keras.ipynb\" target=\"_parent\"><img src=\"https://colab.research.google.com/assets/colab-badge.svg\" alt=\"Open In Colab\"/></a>"
      ]
    },
    {
      "cell_type": "markdown",
      "source": [
        "# TensorFlow"
      ],
      "metadata": {
        "id": "6y0trc-2rDoT"
      }
    },
    {
      "cell_type": "code",
      "source": [
        "import tensorflow as tf"
      ],
      "metadata": {
        "id": "p82Lz2rgD1y5"
      },
      "execution_count": null,
      "outputs": []
    },
    {
      "cell_type": "code",
      "source": [
        "tf.__version__"
      ],
      "metadata": {
        "id": "Avsj8ObADOR5",
        "colab": {
          "base_uri": "https://localhost:8080/",
          "height": 35
        },
        "outputId": "ee99139b-a8fc-4792-8154-499e476469ec"
      },
      "execution_count": null,
      "outputs": [
        {
          "output_type": "execute_result",
          "data": {
            "text/plain": [
              "'2.17.1'"
            ],
            "application/vnd.google.colaboratory.intrinsic+json": {
              "type": "string"
            }
          },
          "metadata": {},
          "execution_count": 2
        }
      ]
    },
    {
      "cell_type": "code",
      "source": [
        "t0 = tf.constant(34)\n",
        "t0"
      ],
      "metadata": {
        "id": "p4hlsrxsK8YU",
        "colab": {
          "base_uri": "https://localhost:8080/"
        },
        "outputId": "94e8edee-ca3d-40c9-ab99-26eb24982adc"
      },
      "execution_count": null,
      "outputs": [
        {
          "output_type": "execute_result",
          "data": {
            "text/plain": [
              "<tf.Tensor: shape=(), dtype=int32, numpy=34>"
            ]
          },
          "metadata": {},
          "execution_count": 3
        }
      ]
    },
    {
      "cell_type": "code",
      "source": [
        "t0 = tf.constant(34.56)\n",
        "t0"
      ],
      "metadata": {
        "colab": {
          "base_uri": "https://localhost:8080/"
        },
        "id": "fuRql8-DMDYQ",
        "outputId": "52907586-bf5c-4cf4-fa23-2fb1114003b1"
      },
      "execution_count": null,
      "outputs": [
        {
          "output_type": "execute_result",
          "data": {
            "text/plain": [
              "<tf.Tensor: shape=(), dtype=float32, numpy=34.56>"
            ]
          },
          "metadata": {},
          "execution_count": 4
        }
      ]
    },
    {
      "cell_type": "code",
      "source": [
        "t1 = tf.constant([0, 1, 2, 3, 4, 5, 6, 7])\n",
        "t1"
      ],
      "metadata": {
        "id": "M5NMK1GkKqey",
        "colab": {
          "base_uri": "https://localhost:8080/"
        },
        "outputId": "5b262c36-71d3-46e3-f83c-c80ef123eddd"
      },
      "execution_count": null,
      "outputs": [
        {
          "output_type": "execute_result",
          "data": {
            "text/plain": [
              "<tf.Tensor: shape=(8,), dtype=int32, numpy=array([0, 1, 2, 3, 4, 5, 6, 7], dtype=int32)>"
            ]
          },
          "metadata": {},
          "execution_count": 5
        }
      ]
    },
    {
      "cell_type": "code",
      "source": [
        "t2 = tf.constant([[0, 1, 2], [3, 4, 5]])\n",
        "t2"
      ],
      "metadata": {
        "id": "NbwJAOLkLIY_",
        "colab": {
          "base_uri": "https://localhost:8080/"
        },
        "outputId": "259921c5-83f3-4ef1-be4c-6a9f6a37c3f3"
      },
      "execution_count": null,
      "outputs": [
        {
          "output_type": "execute_result",
          "data": {
            "text/plain": [
              "<tf.Tensor: shape=(2, 3), dtype=int32, numpy=\n",
              "array([[0, 1, 2],\n",
              "       [3, 4, 5]], dtype=int32)>"
            ]
          },
          "metadata": {},
          "execution_count": 6
        }
      ]
    },
    {
      "cell_type": "code",
      "source": [
        "t3 = tf.constant([[[0, 1, 2], [3, 4, 5]],[[5, 4, 3], [2, 1, 0]]])\n",
        "t3"
      ],
      "metadata": {
        "id": "SNhXFGBeLQDB",
        "colab": {
          "base_uri": "https://localhost:8080/"
        },
        "outputId": "d6789ecc-8dc9-4b9a-93d7-48e0c195159b"
      },
      "execution_count": null,
      "outputs": [
        {
          "output_type": "execute_result",
          "data": {
            "text/plain": [
              "<tf.Tensor: shape=(2, 2, 3), dtype=int32, numpy=\n",
              "array([[[0, 1, 2],\n",
              "        [3, 4, 5]],\n",
              "\n",
              "       [[5, 4, 3],\n",
              "        [2, 1, 0]]], dtype=int32)>"
            ]
          },
          "metadata": {},
          "execution_count": 7
        }
      ]
    },
    {
      "cell_type": "code",
      "source": [
        "print(t1[1:4])"
      ],
      "metadata": {
        "id": "rftL9GDIKzYV",
        "colab": {
          "base_uri": "https://localhost:8080/"
        },
        "outputId": "f87071ed-82fc-4445-f122-406ac31de7e5"
      },
      "execution_count": null,
      "outputs": [
        {
          "output_type": "stream",
          "name": "stdout",
          "text": [
            "tf.Tensor([1 2 3], shape=(3,), dtype=int32)\n"
          ]
        }
      ]
    },
    {
      "cell_type": "code",
      "source": [
        "t2 = tf.constant([[0, 1, 2],\n",
        "                  [3, 4, 5],\n",
        "                  [6, 7, 8]])\n",
        "print(t2)\n",
        "print(t2[0])\n",
        "print(t2[1,0:2])"
      ],
      "metadata": {
        "id": "JTVK8BnFLkBL",
        "colab": {
          "base_uri": "https://localhost:8080/"
        },
        "outputId": "3f1c8722-183e-4e23-83bf-6679130354dc"
      },
      "execution_count": null,
      "outputs": [
        {
          "output_type": "stream",
          "name": "stdout",
          "text": [
            "tf.Tensor(\n",
            "[[0 1 2]\n",
            " [3 4 5]\n",
            " [6 7 8]], shape=(3, 3), dtype=int32)\n",
            "tf.Tensor([0 1 2], shape=(3,), dtype=int32)\n",
            "tf.Tensor([3 4], shape=(2,), dtype=int32)\n"
          ]
        }
      ]
    },
    {
      "cell_type": "code",
      "source": [
        "t1 = tf.constant([[9, 7, 8],\n",
        "                  [11, 4, 0]])\n",
        "print('Tensor :\\n', t1)\n",
        "print('\\nShape of Tensor:', tf.shape(t1).numpy())\n",
        "print('\\nShape of Tensor:', t1.shape)"
      ],
      "metadata": {
        "id": "c7vBAlsWM6yI",
        "colab": {
          "base_uri": "https://localhost:8080/"
        },
        "outputId": "afc3ccf6-c02a-46f0-e03a-f50530819365"
      },
      "execution_count": null,
      "outputs": [
        {
          "output_type": "stream",
          "name": "stdout",
          "text": [
            "Tensor :\n",
            " tf.Tensor(\n",
            "[[ 9  7  8]\n",
            " [11  4  0]], shape=(2, 3), dtype=int32)\n",
            "\n",
            "Shape of Tensor: [2 3]\n",
            "\n",
            "Shape of Tensor: (2, 3)\n"
          ]
        }
      ]
    },
    {
      "cell_type": "code",
      "source": [
        "t2 = tf.reshape(t1, [6])\n",
        "print('Tensor :\\n', t1)\n",
        "print('Tensor :\\n', t2)\n",
        "print('\\nShape of Tensor:', t2.shape)"
      ],
      "metadata": {
        "id": "Ra_gBjy6NLaU",
        "colab": {
          "base_uri": "https://localhost:8080/"
        },
        "outputId": "a77fb494-0a38-49cd-cbca-beed78509e25"
      },
      "execution_count": null,
      "outputs": [
        {
          "output_type": "stream",
          "name": "stdout",
          "text": [
            "Tensor :\n",
            " tf.Tensor(\n",
            "[[ 9  7  8]\n",
            " [11  4  0]], shape=(2, 3), dtype=int32)\n",
            "Tensor :\n",
            " tf.Tensor([ 9  7  8 11  4  0], shape=(6,), dtype=int32)\n",
            "\n",
            "Shape of Tensor: (6,)\n"
          ]
        }
      ]
    },
    {
      "cell_type": "code",
      "source": [
        "t = tf.constant([[1, 2, 3],\n",
        "                 [4, 5, 6]])\n",
        "reshaped_tensor = tf.reshape(t, [3, 2])\n",
        "print(\"\\nReshaped tensor:\")\n",
        "print(reshaped_tensor)"
      ],
      "metadata": {
        "id": "CwSSbjnfNeq0",
        "colab": {
          "base_uri": "https://localhost:8080/"
        },
        "outputId": "cc3a7a5e-9838-4cef-9b38-83b3882fbc1c"
      },
      "execution_count": null,
      "outputs": [
        {
          "output_type": "stream",
          "name": "stdout",
          "text": [
            "\n",
            "Reshaped tensor:\n",
            "tf.Tensor(\n",
            "[[1 2]\n",
            " [3 4]\n",
            " [5 6]], shape=(3, 2), dtype=int32)\n"
          ]
        }
      ]
    },
    {
      "cell_type": "code",
      "source": [
        "x = tf.zeros([4, 3], dtype=tf.float64)\n",
        "print(x)\n",
        "\n",
        "x = tf.constant([[[5], [10]]])\n",
        "print(x)\n",
        "\n",
        "like_x = tf.zeros_like(x, dtype=tf.float32)\n",
        "print(like_x)"
      ],
      "metadata": {
        "id": "iNkEH2CkE09u",
        "colab": {
          "base_uri": "https://localhost:8080/"
        },
        "outputId": "7830e05c-ebd4-4747-9213-88887a41ab5d"
      },
      "execution_count": null,
      "outputs": [
        {
          "output_type": "stream",
          "name": "stdout",
          "text": [
            "tf.Tensor(\n",
            "[[[0.]\n",
            "  [0.]]], shape=(1, 2, 1), dtype=float32)\n"
          ]
        }
      ]
    },
    {
      "cell_type": "code",
      "source": [
        "x = tf.random.normal([3, 5], mean=1.0, stddev=4.0, dtype=tf.float64)\n",
        "print(x)"
      ],
      "metadata": {
        "id": "Xh6szKYYFLdu",
        "colab": {
          "base_uri": "https://localhost:8080/"
        },
        "outputId": "25e6b55b-360c-46b7-d9e1-b82998f1eb2d"
      },
      "execution_count": null,
      "outputs": [
        {
          "output_type": "stream",
          "name": "stdout",
          "text": [
            "tf.Tensor(\n",
            "[[ 0.09744547 -3.42694281 -2.37953011  1.71696     2.08360098]\n",
            " [ 2.33376243  3.17767968 -2.26722978 -5.74273896 11.07110094]\n",
            " [ 1.24154454  5.03803344  5.94362046  5.90593862 -2.20658822]], shape=(3, 5), dtype=float64)\n"
          ]
        }
      ]
    },
    {
      "cell_type": "code",
      "source": [
        "x= tf.random.shuffle([5,10,15,20,23,4,546,7,23,432,453])\n",
        "print(x)"
      ],
      "metadata": {
        "colab": {
          "base_uri": "https://localhost:8080/"
        },
        "id": "dvY3sZP1M97P",
        "outputId": "75494eae-d621-4315-8735-deb2ef7145d0"
      },
      "execution_count": null,
      "outputs": [
        {
          "output_type": "stream",
          "name": "stdout",
          "text": [
            "tf.Tensor([ 20  23 432   7  10  23   4 546  15   5 453], shape=(11,), dtype=int32)\n"
          ]
        }
      ]
    },
    {
      "cell_type": "code",
      "source": [
        "vector = [1, 2, 3,4]\n",
        "diag_matrix = tf.linalg.diag(vector)\n",
        "print(diag_matrix)"
      ],
      "metadata": {
        "id": "4MJn1dlxnAWw",
        "colab": {
          "base_uri": "https://localhost:8080/"
        },
        "outputId": "43e74633-4f94-4db2-c747-97b33faa2f6e"
      },
      "execution_count": null,
      "outputs": [
        {
          "output_type": "stream",
          "name": "stdout",
          "text": [
            "tf.Tensor(\n",
            "[[1 0 0 0]\n",
            " [0 2 0 0]\n",
            " [0 0 3 0]\n",
            " [0 0 0 4]], shape=(4, 4), dtype=int32)\n"
          ]
        }
      ]
    },
    {
      "cell_type": "code",
      "source": [
        "tenso1=tf.linspace(10, 20,6)\n",
        "print(tenso1)\n",
        "\n",
        "tenso2=tf.linspace([0., 5.], [10., 40.], 5, axis=0)\n",
        "print(tenso2)\n",
        "\n",
        "tenso3=tf.linspace([0., 5.], [10., 40.], 5, axis=1)\n",
        "print(tenso3)\n"
      ],
      "metadata": {
        "id": "bpEXoYy4nMf-",
        "colab": {
          "base_uri": "https://localhost:8080/"
        },
        "outputId": "bc6134c6-8129-4fff-b240-2cefcc96267a"
      },
      "execution_count": null,
      "outputs": [
        {
          "output_type": "stream",
          "name": "stdout",
          "text": [
            "tf.Tensor(\n",
            "[[ 0.    2.5   5.    7.5  10.  ]\n",
            " [ 5.   13.75 22.5  31.25 40.  ]], shape=(2, 5), dtype=float32)\n"
          ]
        }
      ]
    },
    {
      "cell_type": "code",
      "source": [
        "x = tf.constant([2, 4,5,2,14])\n",
        "y = tf.constant(2)\n",
        "tf.math.equal(x, y)"
      ],
      "metadata": {
        "id": "imybaRtLFwCS",
        "colab": {
          "base_uri": "https://localhost:8080/"
        },
        "outputId": "c3128dcb-b320-47ad-c00c-d4796f44d0d2"
      },
      "execution_count": null,
      "outputs": [
        {
          "output_type": "execute_result",
          "data": {
            "text/plain": [
              "<tf.Tensor: shape=(5,), dtype=bool, numpy=array([ True, False, False,  True, False])>"
            ]
          },
          "metadata": {},
          "execution_count": 29
        }
      ]
    },
    {
      "cell_type": "code",
      "source": [
        "x = [10, 20, 30, 40, 50]\n",
        "y = 3\n",
        "print(f\"add : {tf.math.add(x, y)}\")\n",
        "print(f\"subtract : {tf.math.subtract(x, y)}\")\n",
        "print(f\"multiply : {tf.math.multiply(x, y)}\")\n",
        "print(f\"divide : {tf.math.divide(x, y)}\")\n",
        "print(f\"mod : {tf.math.mod(x, y)}\")"
      ],
      "metadata": {
        "id": "w_USUfZio04o",
        "colab": {
          "base_uri": "https://localhost:8080/"
        },
        "outputId": "2b3b3a01-841b-4f08-cf87-e5e844bb89b7"
      },
      "execution_count": null,
      "outputs": [
        {
          "output_type": "stream",
          "name": "stdout",
          "text": [
            "add : [13 23 33 43 53]\n",
            "subtract : [ 7 17 27 37 47]\n",
            "multiply : [ 30  60  90 120 150]\n",
            "divide : [ 3.33333333  6.66666667 10.         13.33333333 16.66666667]\n",
            "mod : [1 2 0 1 2]\n"
          ]
        }
      ]
    },
    {
      "cell_type": "code",
      "source": [
        "x = tf.constant([12.23, 8.92,16])\n",
        "print(f\"{tf.math.sqrt(x)}\")\n",
        "print(f\"{tf.math.round(x)}\")\n",
        "print(f\"{tf.math.maximum(x,y)}\")"
      ],
      "metadata": {
        "id": "HK420HLVp3O5",
        "colab": {
          "base_uri": "https://localhost:8080/"
        },
        "outputId": "1c7e2411-9b28-48f4-a705-ddbed8a4f1df"
      },
      "execution_count": null,
      "outputs": [
        {
          "output_type": "stream",
          "name": "stdout",
          "text": [
            "[3.4971416 2.9866369 4.       ]\n",
            "[12.  9. 16.]\n",
            "[12.23  8.92 16.  ]\n"
          ]
        }
      ]
    },
    {
      "cell_type": "markdown",
      "source": [
        "### Ex : Exponential distribution\n",
        "$f(x,\\lambda) = \\lambda e^{-\\lambda x} \\qquad x \\geq 0$  "
      ],
      "metadata": {
        "id": "K5M0EWPht4CU"
      }
    },
    {
      "cell_type": "code",
      "source": [
        "def exponential_pdf(x, lambd):\n",
        "    return lambd * tf.exp(-lambd * x)\n",
        "\n",
        "x = 2.0\n",
        "lambd = 0.5\n",
        "pdf_value = exponential_pdf(x, lambd)\n",
        "print(f\"pdf value for x={x}: {pdf_value.numpy()}\")"
      ],
      "metadata": {
        "id": "26hEATCorVc_",
        "colab": {
          "base_uri": "https://localhost:8080/"
        },
        "outputId": "0ee63f4c-3de0-4031-a56f-b9a4db019e44"
      },
      "execution_count": null,
      "outputs": [
        {
          "output_type": "stream",
          "name": "stdout",
          "text": [
            "pdf value for x=2.0: 0.18393974006175995\n"
          ]
        }
      ]
    },
    {
      "cell_type": "markdown",
      "source": [
        "# Keras"
      ],
      "metadata": {
        "id": "runYPzWBEeSI"
      }
    },
    {
      "cell_type": "markdown",
      "source": [
        "### Import Libraries"
      ],
      "metadata": {
        "id": "sUOlDOBQ9S3k"
      }
    },
    {
      "cell_type": "code",
      "source": [
        "import numpy as np\n",
        "import tensorflow as tf\n",
        "import tensorflow.keras as keras\n",
        "import matplotlib.pyplot as plt"
      ],
      "metadata": {
        "id": "M8Eq7YDkrKtw"
      },
      "execution_count": null,
      "outputs": []
    },
    {
      "cell_type": "markdown",
      "source": [
        "## Create Input Layer"
      ],
      "metadata": {
        "id": "g8vlkcciNJMB"
      }
    },
    {
      "cell_type": "markdown",
      "source": [
        "### Ex1 : inputs = keras.Input(shape=(m,))\n"
      ],
      "metadata": {
        "id": "n47czBYD7aoa"
      }
    },
    {
      "cell_type": "markdown",
      "source": [
        "####\n",
        "![Capture.JPG](data:image/jpeg;base64,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)\n"
      ],
      "metadata": {
        "id": "iwJOhsLr9Kqs"
      }
    },
    {
      "cell_type": "code",
      "source": [
        "X_train = np.random.rand(800, 30)\n",
        "y_train = np.random.rand(800, 1)\n",
        "X_test  = np.random.rand(200, 30)\n",
        "y_test  = np.random.rand(200, 1)\n",
        "\n",
        "input_layer  = keras.layers.Input(shape=(30,))\n",
        "hidden_layer = keras.layers.Dense(units=10, activation='relu')(input_layer)\n",
        "output_layer = keras.layers.Dense(units=1, activation=None)(hidden_layer)\n",
        "\n",
        "\n",
        "model = keras.Model(inputs=input_layer, outputs=output_layer)\n",
        "model.compile(optimizer=keras.optimizers.SGD(learning_rate=0.01), loss='mse')\n",
        "\n",
        "\n",
        "model.fit(X_train, y_train, epochs=10,verbose=0)\n",
        "model.summary()\n",
        "print(100*\"*\")\n",
        "\n",
        "train_loss = model.evaluate(X_train, y_train)\n",
        "test_loss  = model.evaluate(X_test, y_test)\n",
        "print(f\"Train Loss: {train_loss}\")\n",
        "print(f\"Test Loss: {test_loss}\")\n",
        "print(100*\"*\")\n",
        "\n",
        "y_pred = model.predict(X_test)\n",
        "print(\"Predicted values:\\n\", y_pred[:5])\n",
        "print(\"True values:\\n\", y_test[:5])\n",
        "print(100*\"*\")\n",
        "\n",
        "keras.utils.plot_model(model, to_file='model1.png', show_shapes=True, show_layer_names=True, dpi=60)"
      ],
      "metadata": {
        "id": "fpn0uUiU7k1F",
        "colab": {
          "base_uri": "https://localhost:8080/",
          "height": 294
        },
        "outputId": "98f0c511-c085-440b-d4dc-fca5cb49fc9d"
      },
      "execution_count": null,
      "outputs": [
        {
          "output_type": "execute_result",
          "data": {
            "image/png": "[encoded data removed]",
            "text/plain": [
              "<IPython.core.display.Image object>"
            ]
          },
          "metadata": {},
          "execution_count": 10
        }
      ]
    },
    {
      "cell_type": "markdown",
      "source": [
        "### Ex2 : inputs = keras.Input(shape=(n,m,))"
      ],
      "metadata": {
        "id": "UzNaajmR-rxe"
      }
    },
    {
      "cell_type": "code",
      "source": [
        "X_train = np.random.rand(750, 20, 100)\n",
        "y_train = np.random.rand(750, 1)\n",
        "X_test  = np.random.rand(250, 20, 100)\n",
        "y_test  = np.random.rand(250, 1)\n",
        "\n",
        "input_layer = keras.Input(shape=(20, 100))\n",
        "flatten_layer = keras.layers.Flatten()(input_layer)\n",
        "hidden_layer  = keras.layers.Dense(64, activation='relu')(flatten_layer)\n",
        "output_layer  = keras.layers.Dense(1)(hidden_layer)\n",
        "\n",
        "\n",
        "model = keras.Model(inputs=input_layer, outputs=output_layer)\n",
        "model.compile(optimizer='adam', loss='mse')\n",
        "\n",
        "model.fit(X_train, y_train, epochs=5, batch_size=32)\n",
        "model.summary()\n",
        "print(100*\"*\")\n",
        "\n",
        "train_loss = model.evaluate(X_train, y_train)\n",
        "test_loss = model.evaluate(X_test, y_test)\n",
        "print(f\"Train Loss: {train_loss}\")\n",
        "print(f\"Test Loss: {test_loss}\")\n",
        "print(100*\"*\")\n",
        "\n",
        "y_pred = model.predict(X_test)\n",
        "print(\"Predicted values:\\n\", y_pred[:5])\n",
        "print(\"True values:\\n\", y_test[:5])\n",
        "print(100*\"*\")\n",
        "\n",
        "keras.utils.plot_model(model, to_file='model2.png', show_shapes=True, show_layer_names=True, dpi=60)"
      ],
      "metadata": {
        "id": "JqIGUc3L7kyb",
        "colab": {
          "base_uri": "https://localhost:8080/",
          "height": 474
        },
        "outputId": "80e8c278-a6d8-4ebc-9bcb-2f4c079e833c"
      },
      "execution_count": null,
      "outputs": [
        {
          "output_type": "stream",
          "name": "stdout",
          "text": [
            "Epoch 1/5\n",
            "\u001b[1m24/24\u001b[0m \u001b[32m━━━━━━━━━━━━━━━━━━━━\u001b[0m\u001b[37m\u001b[0m \u001b[1m1s\u001b[0m 4ms/step - loss: 1.7383\n",
            "Epoch 2/5\n",
            "\u001b[1m24/24\u001b[0m \u001b[32m━━━━━━━━━━━━━━━━━━━━\u001b[0m\u001b[37m\u001b[0m \u001b[1m0s\u001b[0m 4ms/step - loss: 0.0999\n",
            "Epoch 3/5\n",
            "\u001b[1m24/24\u001b[0m \u001b[32m━━━━━━━━━━━━━━━━━━━━\u001b[0m\u001b[37m\u001b[0m \u001b[1m0s\u001b[0m 3ms/step - loss: 0.0913\n",
            "Epoch 4/5\n",
            "\u001b[1m24/24\u001b[0m \u001b[32m━━━━━━━━━━━━━━━━━━━━\u001b[0m\u001b[37m\u001b[0m \u001b[1m0s\u001b[0m 3ms/step - loss: 0.0913\n",
            "Epoch 5/5\n",
            "\u001b[1m24/24\u001b[0m \u001b[32m━━━━━━━━━━━━━━━━━━━━\u001b[0m\u001b[37m\u001b[0m \u001b[1m0s\u001b[0m 3ms/step - loss: 0.0859\n"
          ]
        },
        {
          "output_type": "display_data",
          "data": {
            "text/plain": [
              "\u001b[1mModel: \"functional_4\"\u001b[0m\n"
            ],
            "text/html": [
              "<pre style=\"white-space:pre;overflow-x:auto;line-height:normal;font-family:Menlo,'DejaVu Sans Mono',consolas,'Courier New',monospace\"><span style=\"font-weight: bold\">Model: \"functional_4\"</span>\n",
              "</pre>\n"
            ]
          },
          "metadata": {}
        },
        {
          "output_type": "display_data",
          "data": {
            "text/plain": [
              "┏━━━━━━━━━━━━━━━━━━━━━━━━━━━━━━━━━━━━━━┳━━━━━━━━━━━━━━━━━━━━━━━━━━━━━┳━━━━━━━━━━━━━━━━━┓\n",
              "┃\u001b[1m \u001b[0m\u001b[1mLayer (type)                        \u001b[0m\u001b[1m \u001b[0m┃\u001b[1m \u001b[0m\u001b[1mOutput Shape               \u001b[0m\u001b[1m \u001b[0m┃\u001b[1m \u001b[0m\u001b[1m        Param #\u001b[0m\u001b[1m \u001b[0m┃\n",
              "┡━━━━━━━━━━━━━━━━━━━━━━━━━━━━━━━━━━━━━━╇━━━━━━━━━━━━━━━━━━━━━━━━━━━━━╇━━━━━━━━━━━━━━━━━┩\n",
              "│ input_layer_4 (\u001b[38;5;33mInputLayer\u001b[0m)           │ (\u001b[38;5;45mNone\u001b[0m, \u001b[38;5;34m20\u001b[0m, \u001b[38;5;34m100\u001b[0m)             │               \u001b[38;5;34m0\u001b[0m │\n",
              "├──────────────────────────────────────┼─────────────────────────────┼─────────────────┤\n",
              "│ flatten (\u001b[38;5;33mFlatten\u001b[0m)                    │ (\u001b[38;5;45mNone\u001b[0m, \u001b[38;5;34m2000\u001b[0m)                │               \u001b[38;5;34m0\u001b[0m │\n",
              "├──────────────────────────────────────┼─────────────────────────────┼─────────────────┤\n",
              "│ dense_8 (\u001b[38;5;33mDense\u001b[0m)                      │ (\u001b[38;5;45mNone\u001b[0m, \u001b[38;5;34m64\u001b[0m)                  │         \u001b[38;5;34m128,064\u001b[0m │\n",
              "├──────────────────────────────────────┼─────────────────────────────┼─────────────────┤\n",
              "│ dense_9 (\u001b[38;5;33mDense\u001b[0m)                      │ (\u001b[38;5;45mNone\u001b[0m, \u001b[38;5;34m1\u001b[0m)                   │              \u001b[38;5;34m65\u001b[0m │\n",
              "└──────────────────────────────────────┴─────────────────────────────┴─────────────────┘\n"
            ],
            "text/html": [
              "<pre style=\"white-space:pre;overflow-x:auto;line-height:normal;font-family:Menlo,'DejaVu Sans Mono',consolas,'Courier New',monospace\">┏━━━━━━━━━━━━━━━━━━━━━━━━━━━━━━━━━━━━━━┳━━━━━━━━━━━━━━━━━━━━━━━━━━━━━┳━━━━━━━━━━━━━━━━━┓\n",
              "┃<span style=\"font-weight: bold\"> Layer (type)                         </span>┃<span style=\"font-weight: bold\"> Output Shape                </span>┃<span style=\"font-weight: bold\">         Param # </span>┃\n",
              "┡━━━━━━━━━━━━━━━━━━━━━━━━━━━━━━━━━━━━━━╇━━━━━━━━━━━━━━━━━━━━━━━━━━━━━╇━━━━━━━━━━━━━━━━━┩\n",
              "│ input_layer_4 (<span style=\"color: #0087ff; text-decoration-color: #0087ff\">InputLayer</span>)           │ (<span style=\"color: #00d7ff; text-decoration-color: #00d7ff\">None</span>, <span style=\"color: #00af00; text-decoration-color: #00af00\">20</span>, <span style=\"color: #00af00; text-decoration-color: #00af00\">100</span>)             │               <span style=\"color: #00af00; text-decoration-color: #00af00\">0</span> │\n",
              "├──────────────────────────────────────┼─────────────────────────────┼─────────────────┤\n",
              "│ flatten (<span style=\"color: #0087ff; text-decoration-color: #0087ff\">Flatten</span>)                    │ (<span style=\"color: #00d7ff; text-decoration-color: #00d7ff\">None</span>, <span style=\"color: #00af00; text-decoration-color: #00af00\">2000</span>)                │               <span style=\"color: #00af00; text-decoration-color: #00af00\">0</span> │\n",
              "├──────────────────────────────────────┼─────────────────────────────┼─────────────────┤\n",
              "│ dense_8 (<span style=\"color: #0087ff; text-decoration-color: #0087ff\">Dense</span>)                      │ (<span style=\"color: #00d7ff; text-decoration-color: #00d7ff\">None</span>, <span style=\"color: #00af00; text-decoration-color: #00af00\">64</span>)                  │         <span style=\"color: #00af00; text-decoration-color: #00af00\">128,064</span> │\n",
              "├──────────────────────────────────────┼─────────────────────────────┼─────────────────┤\n",
              "│ dense_9 (<span style=\"color: #0087ff; text-decoration-color: #0087ff\">Dense</span>)                      │ (<span style=\"color: #00d7ff; text-decoration-color: #00d7ff\">None</span>, <span style=\"color: #00af00; text-decoration-color: #00af00\">1</span>)                   │              <span style=\"color: #00af00; text-decoration-color: #00af00\">65</span> │\n",
              "└──────────────────────────────────────┴─────────────────────────────┴─────────────────┘\n",
              "</pre>\n"
            ]
          },
          "metadata": {}
        },
        {
          "output_type": "display_data",
          "data": {
            "text/plain": [
              "\u001b[1m Total params: \u001b[0m\u001b[38;5;34m384,389\u001b[0m (1.47 MB)\n"
            ],
            "text/html": [
              "<pre style=\"white-space:pre;overflow-x:auto;line-height:normal;font-family:Menlo,'DejaVu Sans Mono',consolas,'Courier New',monospace\"><span style=\"font-weight: bold\"> Total params: </span><span style=\"color: #00af00; text-decoration-color: #00af00\">384,389</span> (1.47 MB)\n",
              "</pre>\n"
            ]
          },
          "metadata": {}
        },
        {
          "output_type": "display_data",
          "data": {
            "text/plain": [
              "\u001b[1m Trainable params: \u001b[0m\u001b[38;5;34m128,129\u001b[0m (500.50 KB)\n"
            ],
            "text/html": [
              "<pre style=\"white-space:pre;overflow-x:auto;line-height:normal;font-family:Menlo,'DejaVu Sans Mono',consolas,'Courier New',monospace\"><span style=\"font-weight: bold\"> Trainable params: </span><span style=\"color: #00af00; text-decoration-color: #00af00\">128,129</span> (500.50 KB)\n",
              "</pre>\n"
            ]
          },
          "metadata": {}
        },
        {
          "output_type": "display_data",
          "data": {
            "text/plain": [
              "\u001b[1m Non-trainable params: \u001b[0m\u001b[38;5;34m0\u001b[0m (0.00 B)\n"
            ],
            "text/html": [
              "<pre style=\"white-space:pre;overflow-x:auto;line-height:normal;font-family:Menlo,'DejaVu Sans Mono',consolas,'Courier New',monospace\"><span style=\"font-weight: bold\"> Non-trainable params: </span><span style=\"color: #00af00; text-decoration-color: #00af00\">0</span> (0.00 B)\n",
              "</pre>\n"
            ]
          },
          "metadata": {}
        },
        {
          "output_type": "display_data",
          "data": {
            "text/plain": [
              "\u001b[1m Optimizer params: \u001b[0m\u001b[38;5;34m256,260\u001b[0m (1001.02 KB)\n"
            ],
            "text/html": [
              "<pre style=\"white-space:pre;overflow-x:auto;line-height:normal;font-family:Menlo,'DejaVu Sans Mono',consolas,'Courier New',monospace\"><span style=\"font-weight: bold\"> Optimizer params: </span><span style=\"color: #00af00; text-decoration-color: #00af00\">256,260</span> (1001.02 KB)\n",
              "</pre>\n"
            ]
          },
          "metadata": {}
        },
        {
          "output_type": "stream",
          "name": "stdout",
          "text": [
            "****************************************************************************************************\n"
          ]
        }
      ]
    },
    {
      "cell_type": "markdown",
      "source": [
        "### Ex3 : inputs = keras.Input(shape=(n,m,p))"
      ],
      "metadata": {
        "id": "TPa0vpNAZehb"
      }
    },
    {
      "cell_type": "code",
      "source": [
        "input_layer   = keras.Input(shape=(28, 28, 3))\n",
        "flatten_layer = keras.layers.Flatten()(input_layer)\n",
        "hidden_layer  = keras.layers.Dense(64, activation='relu')(flatten_layer)\n",
        "output_layer  = keras.layers.Dense(1)(hidden_layer)\n",
        "\n",
        "X_train = np.random.rand(750, 28, 28, 3)\n",
        "y_train = np.random.rand(750, 1)\n",
        "X_test =  np.random.rand(250, 28, 28, 3)\n",
        "y_test =  np.random.rand(250,1)\n",
        "\n",
        "model = keras.Model(inputs=input_layer, outputs=output_layer)\n",
        "model.compile(optimizer='adam', loss='mse')\n",
        "\n",
        "model.summary()\n",
        "print(100*\"*\")\n",
        "\n",
        "\n",
        "model.fit(X_train, y_train, epochs=5, batch_size=32)\n",
        "\n",
        "train_loss = model.evaluate(X_train, y_train)\n",
        "test_loss = model.evaluate(X_test, y_test)\n",
        "print(f\"Train Loss: {train_loss}\")\n",
        "print(f\"Test Loss: {test_loss}\")\n",
        "print(100*\"*\")\n",
        "\n",
        "y_pred = model.predict(X_test)\n",
        "print(\"Predicted values:\\n\", y_pred[:5])\n",
        "print(\"True values:\\n\", y_test[:5])\n",
        "print(100*\"*\")\n",
        "\n",
        "keras.utils.plot_model(model, to_file='model3.png', show_shapes=True, show_layer_names=True, dpi=60)"
      ],
      "metadata": {
        "id": "B7UjOmqmb-1R",
        "colab": {
          "base_uri": "https://localhost:8080/",
          "height": 1000
        },
        "outputId": "12503d53-9665-4b8e-981b-6386c9e3b790"
      },
      "execution_count": null,
      "outputs": [
        {
          "output_type": "display_data",
          "data": {
            "text/plain": [
              "\u001b[1mModel: \"functional_6\"\u001b[0m\n"
            ],
            "text/html": [
              "<pre style=\"white-space:pre;overflow-x:auto;line-height:normal;font-family:Menlo,'DejaVu Sans Mono',consolas,'Courier New',monospace\"><span style=\"font-weight: bold\">Model: \"functional_6\"</span>\n",
              "</pre>\n"
            ]
          },
          "metadata": {}
        },
        {
          "output_type": "display_data",
          "data": {
            "text/plain": [
              "┏━━━━━━━━━━━━━━━━━━━━━━━━━━━━━━━━━━━━━━┳━━━━━━━━━━━━━━━━━━━━━━━━━━━━━┳━━━━━━━━━━━━━━━━━┓\n",
              "┃\u001b[1m \u001b[0m\u001b[1mLayer (type)                        \u001b[0m\u001b[1m \u001b[0m┃\u001b[1m \u001b[0m\u001b[1mOutput Shape               \u001b[0m\u001b[1m \u001b[0m┃\u001b[1m \u001b[0m\u001b[1m        Param #\u001b[0m\u001b[1m \u001b[0m┃\n",
              "┡━━━━━━━━━━━━━━━━━━━━━━━━━━━━━━━━━━━━━━╇━━━━━━━━━━━━━━━━━━━━━━━━━━━━━╇━━━━━━━━━━━━━━━━━┩\n",
              "│ input_layer_6 (\u001b[38;5;33mInputLayer\u001b[0m)           │ (\u001b[38;5;45mNone\u001b[0m, \u001b[38;5;34m28\u001b[0m, \u001b[38;5;34m28\u001b[0m, \u001b[38;5;34m3\u001b[0m)           │               \u001b[38;5;34m0\u001b[0m │\n",
              "├──────────────────────────────────────┼─────────────────────────────┼─────────────────┤\n",
              "│ flatten_2 (\u001b[38;5;33mFlatten\u001b[0m)                  │ (\u001b[38;5;45mNone\u001b[0m, \u001b[38;5;34m2352\u001b[0m)                │               \u001b[38;5;34m0\u001b[0m │\n",
              "├──────────────────────────────────────┼─────────────────────────────┼─────────────────┤\n",
              "│ dense_12 (\u001b[38;5;33mDense\u001b[0m)                     │ (\u001b[38;5;45mNone\u001b[0m, \u001b[38;5;34m64\u001b[0m)                  │         \u001b[38;5;34m150,592\u001b[0m │\n",
              "├──────────────────────────────────────┼─────────────────────────────┼─────────────────┤\n",
              "│ dense_13 (\u001b[38;5;33mDense\u001b[0m)                     │ (\u001b[38;5;45mNone\u001b[0m, \u001b[38;5;34m1\u001b[0m)                   │              \u001b[38;5;34m65\u001b[0m │\n",
              "└──────────────────────────────────────┴─────────────────────────────┴─────────────────┘\n"
            ],
            "text/html": [
              "<pre style=\"white-space:pre;overflow-x:auto;line-height:normal;font-family:Menlo,'DejaVu Sans Mono',consolas,'Courier New',monospace\">┏━━━━━━━━━━━━━━━━━━━━━━━━━━━━━━━━━━━━━━┳━━━━━━━━━━━━━━━━━━━━━━━━━━━━━┳━━━━━━━━━━━━━━━━━┓\n",
              "┃<span style=\"font-weight: bold\"> Layer (type)                         </span>┃<span style=\"font-weight: bold\"> Output Shape                </span>┃<span style=\"font-weight: bold\">         Param # </span>┃\n",
              "┡━━━━━━━━━━━━━━━━━━━━━━━━━━━━━━━━━━━━━━╇━━━━━━━━━━━━━━━━━━━━━━━━━━━━━╇━━━━━━━━━━━━━━━━━┩\n",
              "│ input_layer_6 (<span style=\"color: #0087ff; text-decoration-color: #0087ff\">InputLayer</span>)           │ (<span style=\"color: #00d7ff; text-decoration-color: #00d7ff\">None</span>, <span style=\"color: #00af00; text-decoration-color: #00af00\">28</span>, <span style=\"color: #00af00; text-decoration-color: #00af00\">28</span>, <span style=\"color: #00af00; text-decoration-color: #00af00\">3</span>)           │               <span style=\"color: #00af00; text-decoration-color: #00af00\">0</span> │\n",
              "├──────────────────────────────────────┼─────────────────────────────┼─────────────────┤\n",
              "│ flatten_2 (<span style=\"color: #0087ff; text-decoration-color: #0087ff\">Flatten</span>)                  │ (<span style=\"color: #00d7ff; text-decoration-color: #00d7ff\">None</span>, <span style=\"color: #00af00; text-decoration-color: #00af00\">2352</span>)                │               <span style=\"color: #00af00; text-decoration-color: #00af00\">0</span> │\n",
              "├──────────────────────────────────────┼─────────────────────────────┼─────────────────┤\n",
              "│ dense_12 (<span style=\"color: #0087ff; text-decoration-color: #0087ff\">Dense</span>)                     │ (<span style=\"color: #00d7ff; text-decoration-color: #00d7ff\">None</span>, <span style=\"color: #00af00; text-decoration-color: #00af00\">64</span>)                  │         <span style=\"color: #00af00; text-decoration-color: #00af00\">150,592</span> │\n",
              "├──────────────────────────────────────┼─────────────────────────────┼─────────────────┤\n",
              "│ dense_13 (<span style=\"color: #0087ff; text-decoration-color: #0087ff\">Dense</span>)                     │ (<span style=\"color: #00d7ff; text-decoration-color: #00d7ff\">None</span>, <span style=\"color: #00af00; text-decoration-color: #00af00\">1</span>)                   │              <span style=\"color: #00af00; text-decoration-color: #00af00\">65</span> │\n",
              "└──────────────────────────────────────┴─────────────────────────────┴─────────────────┘\n",
              "</pre>\n"
            ]
          },
          "metadata": {}
        },
        {
          "output_type": "display_data",
          "data": {
            "text/plain": [
              "\u001b[1m Total params: \u001b[0m\u001b[38;5;34m150,657\u001b[0m (588.50 KB)\n"
            ],
            "text/html": [
              "<pre style=\"white-space:pre;overflow-x:auto;line-height:normal;font-family:Menlo,'DejaVu Sans Mono',consolas,'Courier New',monospace\"><span style=\"font-weight: bold\"> Total params: </span><span style=\"color: #00af00; text-decoration-color: #00af00\">150,657</span> (588.50 KB)\n",
              "</pre>\n"
            ]
          },
          "metadata": {}
        },
        {
          "output_type": "display_data",
          "data": {
            "text/plain": [
              "\u001b[1m Trainable params: \u001b[0m\u001b[38;5;34m150,657\u001b[0m (588.50 KB)\n"
            ],
            "text/html": [
              "<pre style=\"white-space:pre;overflow-x:auto;line-height:normal;font-family:Menlo,'DejaVu Sans Mono',consolas,'Courier New',monospace\"><span style=\"font-weight: bold\"> Trainable params: </span><span style=\"color: #00af00; text-decoration-color: #00af00\">150,657</span> (588.50 KB)\n",
              "</pre>\n"
            ]
          },
          "metadata": {}
        },
        {
          "output_type": "display_data",
          "data": {
            "text/plain": [
              "\u001b[1m Non-trainable params: \u001b[0m\u001b[38;5;34m0\u001b[0m (0.00 B)\n"
            ],
            "text/html": [
              "<pre style=\"white-space:pre;overflow-x:auto;line-height:normal;font-family:Menlo,'DejaVu Sans Mono',consolas,'Courier New',monospace\"><span style=\"font-weight: bold\"> Non-trainable params: </span><span style=\"color: #00af00; text-decoration-color: #00af00\">0</span> (0.00 B)\n",
              "</pre>\n"
            ]
          },
          "metadata": {}
        },
        {
          "output_type": "stream",
          "name": "stdout",
          "text": [
            "****************************************************************************************************\n",
            "Epoch 1/5\n",
            "\u001b[1m24/24\u001b[0m \u001b[32m━━━━━━━━━━━━━━━━━━━━\u001b[0m\u001b[37m\u001b[0m \u001b[1m1s\u001b[0m 4ms/step - loss: 1.8859\n",
            "Epoch 2/5\n",
            "\u001b[1m24/24\u001b[0m \u001b[32m━━━━━━━━━━━━━━━━━━━━\u001b[0m\u001b[37m\u001b[0m \u001b[1m0s\u001b[0m 4ms/step - loss: 0.1109\n",
            "Epoch 3/5\n",
            "\u001b[1m24/24\u001b[0m \u001b[32m━━━━━━━━━━━━━━━━━━━━\u001b[0m\u001b[37m\u001b[0m \u001b[1m0s\u001b[0m 4ms/step - loss: 0.0913\n",
            "Epoch 4/5\n",
            "\u001b[1m24/24\u001b[0m \u001b[32m━━━━━━━━━━━━━━━━━━━━\u001b[0m\u001b[37m\u001b[0m \u001b[1m0s\u001b[0m 4ms/step - loss: 0.0865\n",
            "Epoch 5/5\n",
            "\u001b[1m24/24\u001b[0m \u001b[32m━━━━━━━━━━━━━━━━━━━━\u001b[0m\u001b[37m\u001b[0m \u001b[1m0s\u001b[0m 4ms/step - loss: 0.0833\n",
            "\u001b[1m24/24\u001b[0m \u001b[32m━━━━━━━━━━━━━━━━━━━━\u001b[0m\u001b[37m\u001b[0m \u001b[1m0s\u001b[0m 2ms/step - loss: 0.0852  \n",
            "\u001b[1m8/8\u001b[0m \u001b[32m━━━━━━━━━━━━━━━━━━━━\u001b[0m\u001b[37m\u001b[0m \u001b[1m0s\u001b[0m 2ms/step - loss: 0.0960 \n",
            "Train Loss: 0.08393001556396484\n",
            "Test Loss: 0.10757286101579666\n",
            "****************************************************************************************************\n",
            "\u001b[1m8/8\u001b[0m \u001b[32m━━━━━━━━━━━━━━━━━━━━\u001b[0m\u001b[37m\u001b[0m \u001b[1m0s\u001b[0m 6ms/step \n",
            "Predicted values:\n",
            " [[0.34226182]\n",
            " [0.48044577]\n",
            " [0.36870286]\n",
            " [0.44812644]\n",
            " [0.5992633 ]]\n",
            "True values:\n",
            " [[0.21831388]\n",
            " [0.58305916]\n",
            " [0.52091001]\n",
            " [0.66246699]\n",
            " [0.55330637]]\n",
            "****************************************************************************************************\n"
          ]
        },
        {
          "output_type": "execute_result",
          "data": {
            "image/png": "[encoded data removed]",
            "text/plain": [
              "<IPython.core.display.Image object>"
            ]
          },
          "metadata": {},
          "execution_count": 13
        }
      ]
    }
  ]
}