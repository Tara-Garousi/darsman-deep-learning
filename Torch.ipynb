{
  "nbformat": 4,
  "nbformat_minor": 0,
  "metadata": {
    "colab": {
      "provenance": [],
      "collapsed_sections": [
        "TqQO6MDLlb-M",
        "S1TGxXRflk6w",
        "hjCRu0A-lo5S",
        "ThJ0F7BAnTZH",
        "iwcF8heYnZuD",
        "pDli-9MR0kFR",
        "hdx5SkmB4k42",
        "RpBoEAW2DVVd",
        "Nn5cJQxAGKfb",
        "irYT1okFQsJr",
        "2JZh7HZGFK7t",
        "Jx72knKvKon8",
        "y0cywPZ7TsK7",
        "io2Troovcz3s",
        "O3s-co5Scuzi"
      ],
      "gpuType": "T4",
      "authorship_tag": "ABX9TyPB5/n5oGGnLzSw/Q5pJ41W",
      "include_colab_link": true
    },
    "kernelspec": {
      "name": "python3",
      "display_name": "Python 3"
    },
    "language_info": {
      "name": "python"
    },
    "accelerator": "GPU"
  },
  "cells": [
    {
      "cell_type": "markdown",
      "metadata": {
        "id": "view-in-github",
        "colab_type": "text"
      },
      "source": [
        "<a href=\"https://colab.research.google.com/github/mehdiabbasidev/darsman-deep-learning/blob/main/Torch.ipynb\" target=\"_parent\"><img src=\"https://colab.research.google.com/assets/colab-badge.svg\" alt=\"Open In Colab\"/></a>"
      ]
    },
    {
      "cell_type": "code",
      "source": [
        "# !pip3 install torch torchvision torchaudio"
      ],
      "metadata": {
        "id": "VPS6rIftiZyb"
      },
      "execution_count": null,
      "outputs": []
    },
    {
      "cell_type": "code",
      "execution_count": null,
      "metadata": {
        "id": "wLKPjNDOWt6o"
      },
      "outputs": [],
      "source": [
        "import torch\n",
        "import numpy as np\n",
        "import matplotlib.pyplot as plt"
      ]
    },
    {
      "cell_type": "code",
      "source": [
        "torch.cuda.is_available()"
      ],
      "metadata": {
        "id": "cECBT3Y3kGaH",
        "colab": {
          "base_uri": "https://localhost:8080/"
        },
        "outputId": "3f36e2d5-f2d7-4495-f660-b86f65532433"
      },
      "execution_count": null,
      "outputs": [
        {
          "output_type": "execute_result",
          "data": {
            "text/plain": [
              "True"
            ]
          },
          "metadata": {},
          "execution_count": 9
        }
      ]
    },
    {
      "cell_type": "code",
      "source": [
        "!nvidia-smi                   # !rocm-smi (کارت‌های گرافیک AMD)"
      ],
      "metadata": {
        "id": "sHAMBQ5cfv6L",
        "colab": {
          "base_uri": "https://localhost:8080/"
        },
        "outputId": "5c6b2d6e-1a5b-4b75-9c60-ff70743d71c7"
      },
      "execution_count": null,
      "outputs": [
        {
          "output_type": "stream",
          "name": "stdout",
          "text": [
            "Sun Sep  1 13:54:50 2024       \n",
            "+---------------------------------------------------------------------------------------+\n",
            "| NVIDIA-SMI 535.104.05             Driver Version: 535.104.05   CUDA Version: 12.2     |\n",
            "|-----------------------------------------+----------------------+----------------------+\n",
            "| GPU  Name                 Persistence-M | Bus-Id        Disp.A | Volatile Uncorr. ECC |\n",
            "| Fan  Temp   Perf          Pwr:Usage/Cap |         Memory-Usage | GPU-Util  Compute M. |\n",
            "|                                         |                      |               MIG M. |\n",
            "|=========================================+======================+======================|\n",
            "|   0  Tesla T4                       Off | 00000000:00:04.0 Off |                    0 |\n",
            "| N/A   48C    P8              10W /  70W |      3MiB / 15360MiB |      0%      Default |\n",
            "|                                         |                      |                  N/A |\n",
            "+-----------------------------------------+----------------------+----------------------+\n",
            "                                                                                         \n",
            "+---------------------------------------------------------------------------------------+\n",
            "| Processes:                                                                            |\n",
            "|  GPU   GI   CI        PID   Type   Process name                            GPU Memory |\n",
            "|        ID   ID                                                             Usage      |\n",
            "|=======================================================================================|\n",
            "|  No running processes found                                                           |\n",
            "+---------------------------------------------------------------------------------------+\n"
          ]
        }
      ]
    },
    {
      "cell_type": "markdown",
      "source": [
        "##Tensor"
      ],
      "metadata": {
        "id": "HxiM-HbjlULY"
      }
    },
    {
      "cell_type": "markdown",
      "source": [
        "### PyTorch Data Types"
      ],
      "metadata": {
        "id": "K4qLGM7coh_N"
      }
    },
    {
      "cell_type": "markdown",
      "source": [
        "1. torch.float32 یا torch.float\n",
        "2. torch.float64 یا torch.double\n",
        "3. torch.float16 یا torch.half\n",
        "4. torch.int8\n",
        "5. torch.int16 یا torch.short\n",
        "6. torch.int32 یا torch.int\n",
        "7. torch.int64 یا torch.long\n",
        "8. torch.uint8\n",
        "9. torch.bool\n",
        "10. torch.bfloat16"
      ],
      "metadata": {
        "id": "pjLW48tzFgv-"
      }
    },
    {
      "cell_type": "markdown",
      "source": [
        "### Scalar Data"
      ],
      "metadata": {
        "id": "TqQO6MDLlb-M"
      }
    },
    {
      "cell_type": "code",
      "source": [
        "scalar_data1 = torch.tensor(12)\n",
        "print(scalar_data1)\n",
        "print(scalar_data1.dtype)\n",
        "print(scalar_data1.shape)\n",
        "print(scalar_data1.device)"
      ],
      "metadata": {
        "id": "Xej1NHswtfE_",
        "colab": {
          "base_uri": "https://localhost:8080/"
        },
        "outputId": "6dd4af05-7ff8-4be3-b506-98fb59d0c666"
      },
      "execution_count": null,
      "outputs": [
        {
          "output_type": "stream",
          "name": "stdout",
          "text": [
            "tensor(12)\n",
            "torch.int64\n",
            "torch.Size([])\n",
            "cpu\n"
          ]
        }
      ]
    },
    {
      "cell_type": "code",
      "source": [
        "scalar_data2 = torch.tensor(56.7)\n",
        "print(scalar_data2)\n",
        "print(scalar_data2.dtype)\n",
        "print(scalar_data2.shape)\n",
        "print(scalar_data2.device)"
      ],
      "metadata": {
        "id": "4tH72X16ouEb",
        "colab": {
          "base_uri": "https://localhost:8080/"
        },
        "outputId": "9295a4d4-de36-4e9b-cec9-ca1fce106c42"
      },
      "execution_count": null,
      "outputs": [
        {
          "output_type": "stream",
          "name": "stdout",
          "text": [
            "tensor(56.7000)\n",
            "torch.float32\n",
            "torch.Size([])\n",
            "cpu\n"
          ]
        }
      ]
    },
    {
      "cell_type": "code",
      "source": [
        "scalar_data3 = torch.tensor(True)\n",
        "print(scalar_data3)\n",
        "print(scalar_data3.dtype)\n",
        "print(scalar_data3.shape)\n",
        "print(scalar_data3.device)"
      ],
      "metadata": {
        "id": "dozGHeb7o6Fi",
        "colab": {
          "base_uri": "https://localhost:8080/"
        },
        "outputId": "4139d8c5-83bf-44fb-b59f-8c8f0bb74084"
      },
      "execution_count": null,
      "outputs": [
        {
          "output_type": "stream",
          "name": "stdout",
          "text": [
            "tensor(True)\n",
            "torch.bool\n",
            "torch.Size([])\n",
            "cpu\n"
          ]
        }
      ]
    },
    {
      "cell_type": "code",
      "source": [
        "scalar_data4 = torch.tensor(12,dtype=torch.float64)\n",
        "print(scalar_data4)\n",
        "print(scalar_data4.dtype)\n",
        "print(scalar_data4.shape)\n",
        "print(scalar_data3.device)"
      ],
      "metadata": {
        "id": "xhh8Vm4ipBhw",
        "colab": {
          "base_uri": "https://localhost:8080/"
        },
        "outputId": "8846b4d1-fadb-4464-98d5-c2eeb980d590"
      },
      "execution_count": null,
      "outputs": [
        {
          "output_type": "stream",
          "name": "stdout",
          "text": [
            "tensor(12., dtype=torch.float64)\n",
            "torch.float64\n",
            "torch.Size([])\n",
            "cpu\n"
          ]
        }
      ]
    },
    {
      "cell_type": "code",
      "source": [
        "scalar_data4 = torch.tensor(12,dtype=torch.float64,device=\"cuda\")\n",
        "print(scalar_data4)\n",
        "print(scalar_data4.dtype)\n",
        "print(scalar_data4.shape)\n",
        "print(scalar_data4.device)"
      ],
      "metadata": {
        "id": "H9_aEN8yrGFa",
        "colab": {
          "base_uri": "https://localhost:8080/"
        },
        "outputId": "6475dd94-0e91-4a5e-c472-63c22a5a4bef"
      },
      "execution_count": null,
      "outputs": [
        {
          "output_type": "stream",
          "name": "stdout",
          "text": [
            "tensor(12., device='cuda:0', dtype=torch.float64)\n",
            "torch.float64\n",
            "torch.Size([])\n",
            "cuda:0\n"
          ]
        }
      ]
    },
    {
      "cell_type": "markdown",
      "source": [
        "### Vector Data"
      ],
      "metadata": {
        "id": "S1TGxXRflk6w"
      }
    },
    {
      "cell_type": "code",
      "source": [
        "vector_data1=torch.tensor([213,54,5,5,4,343,234])\n",
        "print(vector_data1)\n",
        "print(vector_data1.dtype)\n",
        "print(vector_data1.shape)"
      ],
      "metadata": {
        "id": "qpnWHku1tZDr",
        "colab": {
          "base_uri": "https://localhost:8080/"
        },
        "outputId": "2395ce6a-a901-40db-e1ef-07e4c8ae0342"
      },
      "execution_count": null,
      "outputs": [
        {
          "output_type": "stream",
          "name": "stdout",
          "text": [
            "tensor([213,  54,   5,   5,   4, 343, 234])\n",
            "torch.int64\n",
            "torch.Size([7])\n"
          ]
        }
      ]
    },
    {
      "cell_type": "code",
      "source": [
        "vector_data2=torch.tensor([3,5,6.45,30,41])\n",
        "print(vector_data2)\n",
        "print(vector_data2.dtype)\n",
        "print(vector_data2.shape)"
      ],
      "metadata": {
        "id": "ScpsoUyilN2a",
        "colab": {
          "base_uri": "https://localhost:8080/"
        },
        "outputId": "81448e88-8a1f-41c0-a4bf-29fbb9ee7a45"
      },
      "execution_count": null,
      "outputs": [
        {
          "output_type": "stream",
          "name": "stdout",
          "text": [
            "tensor([ 3.0000,  5.0000,  6.4500, 30.0000, 41.0000])\n",
            "torch.float32\n",
            "torch.Size([5])\n"
          ]
        }
      ]
    },
    {
      "cell_type": "markdown",
      "source": [
        "### Matrix Data"
      ],
      "metadata": {
        "id": "hjCRu0A-lo5S"
      }
    },
    {
      "cell_type": "code",
      "source": [
        "mat_data1=torch.tensor([\n",
        "     [1,2,3],\n",
        "     [4,5,6],\n",
        "     [7,8.,9],\n",
        "     [10,11,12]\n",
        "])\n",
        "print(mat_data1)\n",
        "print(mat_data1.dtype)\n",
        "print(mat_data1.shape)          #mat_data1.shape[1]\n",
        "print(mat_data1.size())           #print(mat_data1.size(1))\n",
        "mat_data1=mat_data1.cuda()\n",
        "print(mat_data1.device)"
      ],
      "metadata": {
        "id": "xBFHAl5Lu54G",
        "colab": {
          "base_uri": "https://localhost:8080/"
        },
        "outputId": "d45947d3-239f-4e75-be24-ebfd978329b3"
      },
      "execution_count": null,
      "outputs": [
        {
          "output_type": "stream",
          "name": "stdout",
          "text": [
            "tensor([[ 1.,  2.,  3.],\n",
            "        [ 4.,  5.,  6.],\n",
            "        [ 7.,  8.,  9.],\n",
            "        [10., 11., 12.]])\n",
            "torch.float32\n",
            "torch.Size([4, 3])\n",
            "torch.Size([4, 3])\n",
            "cuda:0\n"
          ]
        }
      ]
    },
    {
      "cell_type": "markdown",
      "source": [
        "### Tensor Data"
      ],
      "metadata": {
        "id": "ThJ0F7BAnTZH"
      }
    },
    {
      "cell_type": "code",
      "source": [
        "td_data1=torch.tensor([\n",
        "    [[1,2,3],\n",
        "     [4,5,6],\n",
        "     [7,8,9],\n",
        "     [10,11,12]],\n",
        "    [[1,2,3],\n",
        "     [4,5,6],\n",
        "     [7,8,9],\n",
        "     [10,11,12]]\n",
        "])\n",
        "\n",
        "print(td_data1)\n",
        "print(td_data1.dtype)\n",
        "print(td_data1.shape)\n",
        "print(td_data1.device)\n",
        "\n",
        "td_data1=td_data1.cuda()\n",
        "print(td_data1.device)"
      ],
      "metadata": {
        "id": "6UCBVA4QvZd4",
        "colab": {
          "base_uri": "https://localhost:8080/"
        },
        "outputId": "ebd82d7b-a95d-408e-afeb-a91e559b9561"
      },
      "execution_count": null,
      "outputs": [
        {
          "output_type": "stream",
          "name": "stdout",
          "text": [
            "tensor([[[ 1,  2,  3],\n",
            "         [ 4,  5,  6],\n",
            "         [ 7,  8,  9],\n",
            "         [10, 11, 12]],\n",
            "\n",
            "        [[ 1,  2,  3],\n",
            "         [ 4,  5,  6],\n",
            "         [ 7,  8,  9],\n",
            "         [10, 11, 12]]])\n",
            "torch.int64\n",
            "torch.Size([2, 4, 3])\n",
            "cpu\n",
            "cuda:0\n"
          ]
        }
      ]
    },
    {
      "cell_type": "markdown",
      "source": [
        "### Convert Variable Data Type"
      ],
      "metadata": {
        "id": "iwcF8heYnZuD"
      }
    },
    {
      "cell_type": "code",
      "source": [
        "data1=torch.tensor([12,345,67,72])\n",
        "print(data1)\n",
        "print(data1.dtype)\n",
        "\n",
        "data1=data1.float()\n",
        "print(data1)\n",
        "print(data1.dtype)\n",
        "\n",
        "data1=data1.type(torch.float16)\n",
        "print(data1)\n",
        "print(data1.dtype)"
      ],
      "metadata": {
        "id": "rHJRx6fCuYMJ",
        "colab": {
          "base_uri": "https://localhost:8080/"
        },
        "outputId": "78361896-75a1-4b44-895b-2f225058e4f6"
      },
      "execution_count": null,
      "outputs": [
        {
          "output_type": "stream",
          "name": "stdout",
          "text": [
            "tensor([ 12, 345,  67,  72])\n",
            "torch.int64\n",
            "tensor([ 12., 345.,  67.,  72.])\n",
            "torch.float32\n",
            "tensor([ 12., 345.,  67.,  72.], dtype=torch.float16)\n",
            "torch.float16\n"
          ]
        }
      ]
    },
    {
      "cell_type": "markdown",
      "source": [
        "###Tensor Methods"
      ],
      "metadata": {
        "id": "pDli-9MR0kFR"
      }
    },
    {
      "cell_type": "code",
      "source": [
        "data2=torch.tensor([\n",
        "    [12,345,67,-72,67,24,46,78,21,-12,67,45],\n",
        "    [55,345,32,16,32,-6,17,78,49,-87,25,11]\n",
        "])\n",
        "print(f\"Data : {data2}\")\n",
        "print(f\"Data Float : {data2.float()}\")\n",
        "print(f\"Min :{data2.min()}\")\n",
        "print(f\"Max :{data2.max()}\")\n",
        "print(f\"Sum :{data2.sum()}\")\n",
        "print(f\"Mode :{data2.float().mode()}\")\n",
        "print(f\"Medin :{data2.float().median()}\")\n",
        "print(f\"Mean :{data2.float().mean()}\")\n",
        "print(f\"Var :{data2.float().var()}\")\n",
        "print(f\"Std :{data2.float().std()}\")\n",
        "print(f\"Abs:{data2.abs()}\")\n",
        "print(f\"Transpose:{data2.t()}\")\n"
      ],
      "metadata": {
        "id": "LeoIMobm0uK5",
        "colab": {
          "base_uri": "https://localhost:8080/"
        },
        "outputId": "2c1aa7e1-5fdc-4b76-b384-52d5f0420652"
      },
      "execution_count": null,
      "outputs": [
        {
          "output_type": "stream",
          "name": "stdout",
          "text": [
            "Data : tensor([[ 12, 345,  67, -72,  67,  24,  46,  78,  21, -12,  67,  45],\n",
            "        [ 55, 345,  32,  16,  32,  -6,  17,  78,  49, -87,  25,  11]])\n",
            "Data Float : tensor([[ 12., 345.,  67., -72.,  67.,  24.,  46.,  78.,  21., -12.,  67.,  45.],\n",
            "        [ 55., 345.,  32.,  16.,  32.,  -6.,  17.,  78.,  49., -87.,  25.,  11.]])\n",
            "Min :-87\n",
            "Max :345\n",
            "Sum :1255\n",
            "Mode :torch.return_types.mode(\n",
            "values=tensor([67., 32.]),\n",
            "indices=tensor([10,  4]))\n",
            "Medin :32.0\n",
            "Mean :52.29166793823242\n",
            "Var :9785.171875\n",
            "Std :98.92002868652344\n",
            "Abs:tensor([[ 12, 345,  67,  72,  67,  24,  46,  78,  21,  12,  67,  45],\n",
            "        [ 55, 345,  32,  16,  32,   6,  17,  78,  49,  87,  25,  11]])\n",
            "Transpose:tensor([[ 12,  55],\n",
            "        [345, 345],\n",
            "        [ 67,  32],\n",
            "        [-72,  16],\n",
            "        [ 67,  32],\n",
            "        [ 24,  -6],\n",
            "        [ 46,  17],\n",
            "        [ 78,  78],\n",
            "        [ 21,  49],\n",
            "        [-12, -87],\n",
            "        [ 67,  25],\n",
            "        [ 45,  11]])\n"
          ]
        }
      ]
    },
    {
      "cell_type": "code",
      "source": [
        "data3=torch.tensor([2.3456,15.890324,9.,-3.48,3.48,17.6210,100,99.999])\n",
        "\n",
        "print(f\"Data :\\t{data3}\")\n",
        "print(f\"Ciel :\\t{data3.ceil()}\")\n",
        "print(f\"Floor :\\t{data3.floor()}\")\n",
        "print(f\"Fix :\\t{data3.fix()}\")\n",
        "print(f\"Round :\\t{data3.round()}\")\n",
        "print(f\"Data :\\t{data3}\")"
      ],
      "metadata": {
        "id": "XAaXdtOa3MZc",
        "colab": {
          "base_uri": "https://localhost:8080/"
        },
        "outputId": "a70aefaa-b510-4bc2-a43b-5dc173bc263e"
      },
      "execution_count": null,
      "outputs": [
        {
          "output_type": "stream",
          "name": "stdout",
          "text": [
            "Data :\ttensor([  2.3456,  15.8903,   9.0000,  -3.4800,   3.4800,  17.6210, 100.0000,\n",
            "         99.9990])\n",
            "Ciel :\ttensor([  3.,  16.,   9.,  -3.,   4.,  18., 100., 100.])\n",
            "Floor :\ttensor([  2.,  15.,   9.,  -4.,   3.,  17., 100.,  99.])\n",
            "Fix :\ttensor([  2.,  15.,   9.,  -3.,   3.,  17., 100.,  99.])\n",
            "Round :\ttensor([  2.,  16.,   9.,  -3.,   3.,  18., 100., 100.])\n",
            "Data :\ttensor([  2.3456,  15.8903,   9.0000,  -3.4800,   3.4800,  17.6210, 100.0000,\n",
            "         99.9990])\n"
          ]
        }
      ]
    },
    {
      "cell_type": "code",
      "source": [
        "data4=torch.tensor([2,45,15,9.,-3,3,17,99,38,26])\n",
        "print(f\"argmax : {torch.argmax(data4)}\")\n",
        "print(f\"argmin : {torch.argmin(data4)}\")\n",
        "print(f\"topk : {torch.topk(data4,1)}\")\n",
        "print(f\"euclidean norm (morm L2): {torch.norm(data4, p=2)}\")\n",
        "print(f\"remainder of division(mod) : {torch.remainder(data4,2)}\")"
      ],
      "metadata": {
        "id": "APhDnMpEfPtL",
        "colab": {
          "base_uri": "https://localhost:8080/"
        },
        "outputId": "3e5c5de7-b59d-4ba5-9402-8448742c5d13"
      },
      "execution_count": null,
      "outputs": [
        {
          "output_type": "stream",
          "name": "stdout",
          "text": [
            "argmax : 7\n",
            "argmin : 4\n",
            "topk : torch.return_types.topk(\n",
            "values=tensor([99.]),\n",
            "indices=tensor([7]))\n",
            "euclidean norm (morm L2): 120.67725372314453\n",
            "remainder of division(mod) : tensor([0., 1., 1., 1., 1., 1., 1., 1., 0., 0.])\n"
          ]
        }
      ]
    },
    {
      "cell_type": "code",
      "source": [
        "data3=torch.tensor([1,2,5,4,5,60])\n",
        "\n",
        "print(torch.sum(data3, 0))            # dimension=0\n",
        "print(torch.cumsum(data3, 0))         # dimension=0\n",
        "print(torch.prod(data3, 0))           # dimension=0\n",
        "print(torch.cumprod(data3, 0))        # dimension=0\n",
        "print(torch.diff(data3))"
      ],
      "metadata": {
        "id": "wtmnHub5k2wo",
        "colab": {
          "base_uri": "https://localhost:8080/"
        },
        "outputId": "2ed187d1-fc6a-40b2-86f0-610950c7f150"
      },
      "execution_count": null,
      "outputs": [
        {
          "output_type": "stream",
          "name": "stdout",
          "text": [
            "tensor(77)\n",
            "tensor([ 1,  3,  8, 12, 17, 77])\n",
            "tensor(12000)\n",
            "tensor([    1,     2,    10,    40,   200, 12000])\n",
            "tensor([ 1,  3, -1,  1, 55])\n"
          ]
        }
      ]
    },
    {
      "cell_type": "code",
      "source": [
        "data1=torch.tensor([1,2,3,4,5,6])\n",
        "data2=data1.exp2()\n",
        "data3=data2.log2()\n",
        "\n",
        "print(f\"data1 :\\t{data1}\")\n",
        "print(f\"data2 :\\t{data2}\")\n",
        "print(f\"data3 :\\t{data3}\")"
      ],
      "metadata": {
        "id": "yGtSHBxZgtFe",
        "colab": {
          "base_uri": "https://localhost:8080/"
        },
        "outputId": "9c290aa9-6203-4a57-b5a2-1157ebd170dc"
      },
      "execution_count": null,
      "outputs": [
        {
          "output_type": "stream",
          "name": "stdout",
          "text": [
            "data1 :\ttensor([1, 2, 3, 4, 5, 6])\n",
            "data2 :\ttensor([ 2.,  4.,  8., 16., 32., 64.])\n",
            "data3 :\ttensor([1., 2., 3., 4., 5., 6.])\n"
          ]
        }
      ]
    },
    {
      "cell_type": "code",
      "source": [
        "data1=torch.tensor([1,2,3,4,5,6])\n",
        "data2=data1.square()\n",
        "data3=data2.sqrt()\n",
        "\n",
        "print(f\"data2 :\\t{data2}\")\n",
        "print(f\"data3 :\\t{data3}\")"
      ],
      "metadata": {
        "id": "Di7snHSDmkOT",
        "colab": {
          "base_uri": "https://localhost:8080/"
        },
        "outputId": "d11c27a8-4193-47e3-d046-5746f9945cab"
      },
      "execution_count": null,
      "outputs": [
        {
          "output_type": "stream",
          "name": "stdout",
          "text": [
            "data2 :\ttensor([ 1,  4,  9, 16, 25, 36])\n",
            "data3 :\ttensor([1., 2., 3., 4., 5., 6.])\n"
          ]
        }
      ]
    },
    {
      "cell_type": "code",
      "source": [
        "data3=torch.tensor([2.3456,15.890324,9.,17.6210,20.43,99.999])\n",
        "print(f\"Data : {data3}\")\n",
        "print(f\"Ciel_ : {data3.ceil_()}\")\n",
        "print(f\"Data : {data3}\")"
      ],
      "metadata": {
        "id": "W0xZwCpI4cfs",
        "colab": {
          "base_uri": "https://localhost:8080/"
        },
        "outputId": "3a0909db-cde2-484d-d1d1-671054248153"
      },
      "execution_count": null,
      "outputs": [
        {
          "output_type": "stream",
          "name": "stdout",
          "text": [
            "Data : tensor([ 2.3456, 15.8903,  9.0000, 17.6210, 20.4300, 99.9990])\n",
            "Ciel_ : tensor([  3.,  16.,   9.,  18.,  21., 100.])\n",
            "Data : tensor([  3.,  16.,   9.,  18.,  21., 100.])\n"
          ]
        }
      ]
    },
    {
      "cell_type": "code",
      "source": [
        "data1=torch.tensor([2.,15 ,9,17,20,99])\n",
        "data2=torch.tensor([4 ,12.,3,26,48,31])\n",
        "torch.dist(data1, data2,p=2)                #Euclidean distance (فاصله اقلیدسی)"
      ],
      "metadata": {
        "id": "pNALho7-m5Zv",
        "colab": {
          "base_uri": "https://localhost:8080/"
        },
        "outputId": "e377f523-cbb5-49f0-e0ca-6cea90dc14f1"
      },
      "execution_count": null,
      "outputs": [
        {
          "output_type": "execute_result",
          "data": {
            "text/plain": [
              "tensor(74.4177)"
            ]
          },
          "metadata": {},
          "execution_count": 37
        }
      ]
    },
    {
      "cell_type": "markdown",
      "source": [
        "### Create Tensor With Specific Values"
      ],
      "metadata": {
        "id": "hdx5SkmB4k42"
      }
    },
    {
      "cell_type": "code",
      "source": [
        "vdata=torch.range(1,20,2)\n",
        "print(f\"vector data range : \\n{vdata}\\n\")"
      ],
      "metadata": {
        "id": "iYZimBXUTIHn",
        "colab": {
          "base_uri": "https://localhost:8080/"
        },
        "outputId": "4f1b6e4d-54ee-41fb-8caa-0d1f2456bd4c"
      },
      "execution_count": null,
      "outputs": [
        {
          "output_type": "stream",
          "name": "stdout",
          "text": [
            "vector data ones : \n",
            "tensor([ 1.,  3.,  5.,  7.,  9., 11., 13., 15., 17., 19.])\n",
            "\n"
          ]
        },
        {
          "output_type": "stream",
          "name": "stderr",
          "text": [
            "<ipython-input-38-0489a1527b25>:1: UserWarning: torch.range is deprecated and will be removed in a future release because its behavior is inconsistent with Python's range builtin. Instead, use torch.arange, which produces values in [start, end).\n",
            "  vdata=torch.range(1,20,2)\n"
          ]
        }
      ]
    },
    {
      "cell_type": "code",
      "source": [
        "shape=(3,5)\n",
        "data_ones=torch.ones(shape)\n",
        "data_zeros=torch.zeros(shape)\n",
        "data_empty=torch.empty(shape)\n",
        "data_eye = torch.eye(5)\n",
        "print(f\"data_ones : \\n{data_ones}\\n\")\n",
        "print(f\"data_zeros : \\n{data_zeros}\\n\")\n",
        "print(f\"data_empty : \\n{data_empty}\\n\")\n",
        "print(f\"data_eye : \\n{data_eye}\\n\")"
      ],
      "metadata": {
        "id": "AkvzlMGS0uIY",
        "colab": {
          "base_uri": "https://localhost:8080/"
        },
        "outputId": "1d556bd6-13f5-4cf5-c1ee-87f648717b1a"
      },
      "execution_count": null,
      "outputs": [
        {
          "output_type": "stream",
          "name": "stdout",
          "text": [
            "data_ones : \n",
            "tensor([[1., 1., 1., 1., 1.],\n",
            "        [1., 1., 1., 1., 1.],\n",
            "        [1., 1., 1., 1., 1.]])\n",
            "\n",
            "data_zeros : \n",
            "tensor([[0., 0., 0., 0., 0.],\n",
            "        [0., 0., 0., 0., 0.],\n",
            "        [0., 0., 0., 0., 0.]])\n",
            "\n",
            "data_empty : \n",
            "tensor([[2.0706e+02, 3.2674e-41, 1.6841e-01, 3.2674e-41, 1.0000e+00],\n",
            "        [0.0000e+00, 0.0000e+00, 0.0000e+00, 1.4013e-45, 0.0000e+00],\n",
            "        [0.0000e+00, 0.0000e+00, 0.0000e+00, 0.0000e+00, 1.1351e-43]])\n",
            "\n",
            "data_eye : \n",
            "tensor([[1., 0., 0., 0., 0.],\n",
            "        [0., 1., 0., 0., 0.],\n",
            "        [0., 0., 1., 0., 0.],\n",
            "        [0., 0., 0., 1., 0.],\n",
            "        [0., 0., 0., 0., 1.]])\n",
            "\n"
          ]
        }
      ]
    },
    {
      "cell_type": "markdown",
      "source": [
        "### Create Tensor With Random Values"
      ],
      "metadata": {
        "id": "RpBoEAW2DVVd"
      }
    },
    {
      "cell_type": "code",
      "source": [
        "# torch.manual_seed(42)\n",
        "data_rand1=torch.rand((2,5))\n",
        "print(f\"data_rand : \\n{data_rand1}\\n\")"
      ],
      "metadata": {
        "id": "4F4nsgi10uFi",
        "colab": {
          "base_uri": "https://localhost:8080/"
        },
        "outputId": "5d3146f9-efcd-4215-e90e-dd83b090aebd"
      },
      "execution_count": null,
      "outputs": [
        {
          "output_type": "stream",
          "name": "stdout",
          "text": [
            "data_rand : \n",
            "tensor([[0.4149, 0.4229, 0.8821, 0.5825, 0.4165],\n",
            "        [0.2782, 0.8143, 0.6932, 0.5606, 0.2183]])\n",
            "\n"
          ]
        }
      ]
    },
    {
      "cell_type": "code",
      "source": [
        "data_rand2=torch.rand(1000)\n",
        "plt.hist(data_rand2, 100)"
      ],
      "metadata": {
        "id": "j3OBQQQvDeKi",
        "colab": {
          "base_uri": "https://localhost:8080/",
          "height": 1000
        },
        "outputId": "caea7581-71d7-4f24-dfd3-44d2902552bb"
      },
      "execution_count": null,
      "outputs": [
        {
          "output_type": "execute_result",
          "data": {
            "text/plain": [
              "(array([ 8.,  9.,  6.,  6.,  5., 14.,  7., 14.,  8., 14., 18.,  8.,  8.,\n",
              "         4., 13., 11.,  8.,  4.,  9.,  7., 12., 11., 15.,  6.,  8., 14.,\n",
              "         9.,  6.,  8., 11., 10.,  4., 11., 13.,  9., 11., 11., 10.,  6.,\n",
              "        17.,  9.,  9.,  9.,  8., 13.,  9.,  9., 11., 11., 13., 12., 11.,\n",
              "        15.,  7., 14., 10., 11.,  9., 14.,  8., 17., 10.,  5., 10.,  5.,\n",
              "        14.,  8., 16., 15., 10., 12., 16., 12.,  7., 14., 11., 11.,  4.,\n",
              "        16.,  9.,  8., 12., 15.,  7.,  4.,  9.,  7.,  9., 14.,  9.,  6.,\n",
              "        11., 10.,  4., 10., 12., 10.,  7.,  7., 12.]),\n",
              " array([6.75022602e-04, 1.06373290e-02, 2.05996353e-02, 3.05619407e-02,\n",
              "        4.05242480e-02, 5.04865535e-02, 6.04488589e-02, 7.04111680e-02,\n",
              "        8.03734735e-02, 9.03357789e-02, 1.00298084e-01, 1.10260390e-01,\n",
              "        1.20222695e-01, 1.30185008e-01, 1.40147313e-01, 1.50109619e-01,\n",
              "        1.60071924e-01, 1.70034230e-01, 1.79996535e-01, 1.89958841e-01,\n",
              "        1.99921146e-01, 2.09883451e-01, 2.19845757e-01, 2.29808062e-01,\n",
              "        2.39770368e-01, 2.49732673e-01, 2.59694993e-01, 2.69657284e-01,\n",
              "        2.79619604e-01, 2.89581895e-01, 2.99544215e-01, 3.09506506e-01,\n",
              "        3.19468826e-01, 3.29431117e-01, 3.39393437e-01, 3.49355727e-01,\n",
              "        3.59318048e-01, 3.69280338e-01, 3.79242659e-01, 3.89204949e-01,\n",
              "        3.99167269e-01, 4.09129560e-01, 4.19091880e-01, 4.29054171e-01,\n",
              "        4.39016491e-01, 4.48978782e-01, 4.58941102e-01, 4.68903393e-01,\n",
              "        4.78865713e-01, 4.88828003e-01, 4.98790324e-01, 5.08752644e-01,\n",
              "        5.18714964e-01, 5.28677225e-01, 5.38639545e-01, 5.48601866e-01,\n",
              "        5.58564186e-01, 5.68526447e-01, 5.78488767e-01, 5.88451087e-01,\n",
              "        5.98413408e-01, 6.08375669e-01, 6.18337989e-01, 6.28300309e-01,\n",
              "        6.38262630e-01, 6.48224890e-01, 6.58187211e-01, 6.68149531e-01,\n",
              "        6.78111851e-01, 6.88074112e-01, 6.98036432e-01, 7.07998753e-01,\n",
              "        7.17961073e-01, 7.27923334e-01, 7.37885654e-01, 7.47847974e-01,\n",
              "        7.57810295e-01, 7.67772615e-01, 7.77734876e-01, 7.87697196e-01,\n",
              "        7.97659516e-01, 8.07621837e-01, 8.17584097e-01, 8.27546418e-01,\n",
              "        8.37508738e-01, 8.47471058e-01, 8.57433319e-01, 8.67395639e-01,\n",
              "        8.77357960e-01, 8.87320280e-01, 8.97282541e-01, 9.07244861e-01,\n",
              "        9.17207181e-01, 9.27169502e-01, 9.37131763e-01, 9.47094083e-01,\n",
              "        9.57056403e-01, 9.67018723e-01, 9.76980984e-01, 9.86943305e-01,\n",
              "        9.96905625e-01]),\n",
              " <BarContainer object of 100 artists>)"
            ]
          },
          "metadata": {},
          "execution_count": 45
        },
        {
          "output_type": "display_data",
          "data": {
            "text/plain": [
              "<Figure size 640x480 with 1 Axes>"
            ],
            "image/png": "[encoded data removed]"
          },
          "metadata": {}
        }
      ]
    },
    {
      "cell_type": "code",
      "source": [
        "data_rand3=torch.randn(100)\n",
        "print(f\"data_randn : \\n{data_rand3}\\n\")"
      ],
      "metadata": {
        "id": "8JqV-NQo9mvv",
        "colab": {
          "base_uri": "https://localhost:8080/"
        },
        "outputId": "fda29993-3852-49e6-997a-916935d82878"
      },
      "execution_count": null,
      "outputs": [
        {
          "output_type": "stream",
          "name": "stdout",
          "text": [
            "data_randn : \n",
            "tensor([ 1.5104, -0.0838,  0.5516,  0.0095, -1.4542, -0.0976, -2.0485, -1.2996,\n",
            "         0.5396, -0.2132, -1.1740,  1.0018,  0.2432,  1.9898, -0.3033, -0.5404,\n",
            "         0.2696,  0.4820,  0.6105,  1.5190,  0.6435, -0.7639, -0.1219, -1.2994,\n",
            "        -0.2116,  2.6196,  0.8253,  0.5869,  0.1072,  0.8133, -0.3784, -1.5341,\n",
            "         1.0309, -0.8061,  2.1834, -0.5170,  1.6021, -1.1034, -0.6642,  1.4265,\n",
            "         1.7037, -1.6318, -0.3167,  0.3012, -1.5539, -1.2217, -1.0857,  1.5232,\n",
            "        -1.7777, -1.2596, -0.1683,  0.5454,  0.9308,  1.2303,  0.2726,  0.7988,\n",
            "         0.1980,  0.2841, -0.2715, -0.4788, -0.1530,  1.1528, -0.9049, -1.0855,\n",
            "        -0.3780, -1.0130,  0.2326, -1.6412,  1.0086,  0.9623,  1.8353,  0.9203,\n",
            "         0.5170, -0.4886,  0.3485,  1.4090,  0.1271, -0.2918, -0.4993, -1.3150,\n",
            "         1.2893,  0.3269, -1.4671,  0.3432, -1.4486,  0.1002, -1.3926,  0.8591,\n",
            "        -0.3842,  1.2636,  1.6627,  0.5408,  0.2149, -0.5537,  0.3873, -0.2524,\n",
            "         0.1670,  0.1580, -0.5487, -1.0864])\n",
            "\n"
          ]
        }
      ]
    },
    {
      "cell_type": "code",
      "source": [
        "data_rand4=torch.randn(1000)\n",
        "plt.hist(data_rand4, 100)"
      ],
      "metadata": {
        "id": "Bk3JfeCNDi-X",
        "colab": {
          "base_uri": "https://localhost:8080/",
          "height": 962
        },
        "outputId": "63a4c2d6-63f6-4808-a91b-73ac4e9fcbfd"
      },
      "execution_count": null,
      "outputs": [
        {
          "output_type": "execute_result",
          "data": {
            "text/plain": [
              "(array([ 1.,  0.,  0.,  0.,  0.,  0.,  0.,  0.,  1.,  0.,  0.,  1.,  3.,\n",
              "         0.,  0.,  1.,  0.,  1.,  1.,  2.,  6.,  5.,  5.,  4.,  3.,  4.,\n",
              "         8.,  7.,  7.,  7., 13., 16., 21., 17., 12., 19., 16., 17., 21.,\n",
              "        23., 10., 29., 33., 23., 30., 24., 22., 23., 30., 27., 25., 31.,\n",
              "        34., 29., 21., 31., 20., 36., 23., 23., 22., 14., 21., 19., 20.,\n",
              "        11., 15., 15.,  8., 12., 11.,  7.,  9.,  7.,  6., 12.,  5.,  0.,\n",
              "         3.,  3.,  1.,  2.,  1.,  0.,  1.,  2.,  0.,  2.,  2.,  0.,  2.,\n",
              "         0.,  0.,  0.,  0.,  0.,  0.,  0.,  0.,  1.]),\n",
              " array([-3.44165587, -3.37249994, -3.30334377, -3.23418784, -3.16503167,\n",
              "        -3.09587574, -3.02671957, -2.95756364, -2.88840747, -2.81925154,\n",
              "        -2.75009537, -2.68093944, -2.6117835 , -2.54262733, -2.4734714 ,\n",
              "        -2.40431523, -2.3351593 , -2.26600313, -2.1968472 , -2.12769103,\n",
              "        -2.0585351 , -1.98937905, -1.920223  , -1.85106695, -1.7819109 ,\n",
              "        -1.71275496, -1.64359891, -1.57444286, -1.50528681, -1.43613076,\n",
              "        -1.36697471, -1.29781866, -1.22866261, -1.15950656, -1.09035051,\n",
              "        -1.02119446, -0.95203847, -0.88288242, -0.81372643, -0.74457037,\n",
              "        -0.67541432, -0.60625827, -0.53710222, -0.4679462 , -0.39879018,\n",
              "        -0.32963413, -0.26047808, -0.19132206, -0.12216602, -0.05300998,\n",
              "         0.01614606,  0.0853021 ,  0.15445814,  0.22361419,  0.29277021,\n",
              "         0.36192626,  0.43108231,  0.50023836,  0.56939435,  0.6385504 ,\n",
              "         0.70770645,  0.7768625 ,  0.84601855,  0.91517454,  0.98433059,\n",
              "         1.05348659,  1.12264264,  1.19179869,  1.26095474,  1.33011079,\n",
              "         1.39926684,  1.46842289,  1.53757894,  1.60673499,  1.67589104,\n",
              "         1.74504709,  1.81420302,  1.88335907,  1.95251513,  2.0216713 ,\n",
              "         2.09082723,  2.15998316,  2.22913933,  2.29829526,  2.36745143,\n",
              "         2.43660736,  2.50576353,  2.57491946,  2.64407563,  2.71323156,\n",
              "         2.78238773,  2.85154366,  2.9206996 ,  2.98985577,  3.0590117 ,\n",
              "         3.12816787,  3.1973238 ,  3.26647997,  3.3356359 ,  3.40479207,\n",
              "         3.473948  ]),\n",
              " <BarContainer object of 100 artists>)"
            ]
          },
          "metadata": {},
          "execution_count": 47
        },
        {
          "output_type": "display_data",
          "data": {
            "text/plain": [
              "<Figure size 640x480 with 1 Axes>"
            ],
            "image/png": "[encoded data removed]"
          },
          "metadata": {}
        }
      ]
    },
    {
      "cell_type": "code",
      "source": [
        "shape=(3,5)\n",
        "data_rand_int1 = torch.randint(1, 50, shape)\n",
        "print(f\"data_rand_int : \\n{data_rand_int1}\\n\")"
      ],
      "metadata": {
        "id": "wh6BKxsi9NoV",
        "colab": {
          "base_uri": "https://localhost:8080/"
        },
        "outputId": "33c88465-7c39-4a69-a0c1-fc864275d874"
      },
      "execution_count": null,
      "outputs": [
        {
          "output_type": "stream",
          "name": "stdout",
          "text": [
            "data_rand_int : \n",
            "tensor([[17, 27, 42, 13, 19],\n",
            "        [11, 44, 15, 33,  1],\n",
            "        [10, 35, 25,  5, 24]])\n",
            "\n"
          ]
        }
      ]
    },
    {
      "cell_type": "code",
      "source": [
        "data_rand_int2 = torch.randint(3, 21, (1,))\n",
        "print(data_rand_int2)\n",
        "print(data_rand_int2.dtype)\n",
        "print(data_rand_int2.shape)"
      ],
      "metadata": {
        "id": "ZtltZ1-LIydm",
        "colab": {
          "base_uri": "https://localhost:8080/"
        },
        "outputId": "779d0c5c-0949-48a8-c4f4-64ba54f175f3"
      },
      "execution_count": null,
      "outputs": [
        {
          "output_type": "stream",
          "name": "stdout",
          "text": [
            "tensor([5])\n",
            "torch.int64\n",
            "torch.Size([1])\n"
          ]
        }
      ]
    },
    {
      "cell_type": "code",
      "source": [
        "data_rand_int3 = torch.randint(3, 21, (1,)).item()\n",
        "print(data_rand_int3)\n",
        "print(type(data_rand_int3))"
      ],
      "metadata": {
        "id": "Z51bO6GaI5dA",
        "colab": {
          "base_uri": "https://localhost:8080/"
        },
        "outputId": "b288d96e-77c3-4c0d-a8c6-b620de07d0b3"
      },
      "execution_count": null,
      "outputs": [
        {
          "output_type": "stream",
          "name": "stdout",
          "text": [
            "5\n",
            "<class 'int'>\n"
          ]
        }
      ]
    },
    {
      "cell_type": "code",
      "source": [
        "data_rand_perm=torch.randperm(20)\n",
        "print(f\"data_rand_perm : \\n{data_rand_perm}\\n\")"
      ],
      "metadata": {
        "id": "4fnmxvWm-hY6",
        "colab": {
          "base_uri": "https://localhost:8080/"
        },
        "outputId": "e9f40408-82bf-4330-d5c1-49e9c47021e7"
      },
      "execution_count": null,
      "outputs": [
        {
          "output_type": "stream",
          "name": "stdout",
          "text": [
            "data_rand_perm : \n",
            "tensor([15, 18, 11,  7,  4,  1,  8, 10, 16, 12,  3, 17,  9,  2, 14,  5, 19,  6,\n",
            "         0, 13])\n",
            "\n"
          ]
        }
      ]
    },
    {
      "cell_type": "code",
      "source": [
        "vdata=torch.tensor([1,3,5,6])\n",
        "print(vdata)\n",
        "mat_data=vdata.repeat((3))\n",
        "print(mat_data)\n",
        "mat_data=vdata.repeat((3,2))\n",
        "print(mat_data)"
      ],
      "metadata": {
        "id": "tI5u8qxXU769",
        "colab": {
          "base_uri": "https://localhost:8080/"
        },
        "outputId": "2e74f435-6ff3-43fc-f413-de1856b714c0"
      },
      "execution_count": null,
      "outputs": [
        {
          "output_type": "stream",
          "name": "stdout",
          "text": [
            "tensor([1, 3, 5, 6])\n",
            "tensor([1, 3, 5, 6, 1, 3, 5, 6, 1, 3, 5, 6])\n",
            "tensor([[1, 3, 5, 6, 1, 3, 5, 6],\n",
            "        [1, 3, 5, 6, 1, 3, 5, 6],\n",
            "        [1, 3, 5, 6, 1, 3, 5, 6]])\n"
          ]
        }
      ]
    },
    {
      "cell_type": "markdown",
      "source": [
        "### Replace Tensor Data Value"
      ],
      "metadata": {
        "id": "Nn5cJQxAGKfb"
      }
    },
    {
      "cell_type": "code",
      "source": [
        "data=torch.randint(1,21,(5,5))\n",
        "data"
      ],
      "metadata": {
        "id": "BsMNW5NUGYyX",
        "colab": {
          "base_uri": "https://localhost:8080/"
        },
        "outputId": "a786ae95-9f3f-464a-9f09-3ad7b3287331"
      },
      "execution_count": null,
      "outputs": [
        {
          "output_type": "execute_result",
          "data": {
            "text/plain": [
              "tensor([[ 3, 16,  8, 20,  3],\n",
              "        [ 5, 14, 14,  2,  5],\n",
              "        [ 4,  5,  9, 17, 18],\n",
              "        [ 2,  1, 14, 14, 10],\n",
              "        [20,  8, 17, 14,  9]])"
            ]
          },
          "metadata": {},
          "execution_count": 63
        }
      ]
    },
    {
      "cell_type": "code",
      "source": [
        "data.zero_()\n",
        "data"
      ],
      "metadata": {
        "id": "0nlK4OrCG5WC",
        "colab": {
          "base_uri": "https://localhost:8080/"
        },
        "outputId": "5a88c11b-502c-4333-a14e-c233201ff255"
      },
      "execution_count": null,
      "outputs": [
        {
          "output_type": "execute_result",
          "data": {
            "text/plain": [
              "tensor([[0, 0, 0, 0, 0],\n",
              "        [0, 0, 0, 0, 0],\n",
              "        [0, 0, 0, 0, 0],\n",
              "        [0, 0, 0, 0, 0],\n",
              "        [0, 0, 0, 0, 0]])"
            ]
          },
          "metadata": {},
          "execution_count": 58
        }
      ]
    },
    {
      "cell_type": "code",
      "source": [
        "data.fill_(1)\n",
        "data"
      ],
      "metadata": {
        "id": "rmW8Yc79Gpbe",
        "colab": {
          "base_uri": "https://localhost:8080/"
        },
        "outputId": "819f8220-2022-4bbe-caea-85b5cd2930e8"
      },
      "execution_count": null,
      "outputs": [
        {
          "output_type": "execute_result",
          "data": {
            "text/plain": [
              "tensor([[1, 1, 1, 1, 1],\n",
              "        [1, 1, 1, 1, 1],\n",
              "        [1, 1, 1, 1, 1],\n",
              "        [1, 1, 1, 1, 1],\n",
              "        [1, 1, 1, 1, 1]])"
            ]
          },
          "metadata": {},
          "execution_count": 60
        }
      ]
    },
    {
      "cell_type": "code",
      "source": [
        "data=torch.eye(data.shape[0])\n",
        "data"
      ],
      "metadata": {
        "id": "ThJfvnpdHuO7",
        "colab": {
          "base_uri": "https://localhost:8080/"
        },
        "outputId": "f69a704d-4741-45b4-ecd6-cc1531edd430"
      },
      "execution_count": null,
      "outputs": [
        {
          "output_type": "execute_result",
          "data": {
            "text/plain": [
              "torch.Size([5, 5])"
            ]
          },
          "metadata": {},
          "execution_count": 62
        }
      ]
    },
    {
      "cell_type": "code",
      "source": [
        "z=torch.zeros_like(data)\n",
        "z"
      ],
      "metadata": {
        "id": "rIu-FOl_MVGx",
        "colab": {
          "base_uri": "https://localhost:8080/"
        },
        "outputId": "081b437c-9e21-4b0e-d6d8-4105fcf6c7fa"
      },
      "execution_count": null,
      "outputs": [
        {
          "output_type": "execute_result",
          "data": {
            "text/plain": [
              "tensor([[0, 0, 0, 0, 0],\n",
              "        [0, 0, 0, 0, 0],\n",
              "        [0, 0, 0, 0, 0],\n",
              "        [0, 0, 0, 0, 0],\n",
              "        [0, 0, 0, 0, 0]])"
            ]
          },
          "metadata": {},
          "execution_count": 64
        }
      ]
    },
    {
      "cell_type": "markdown",
      "source": [
        "### PyTorch Operations"
      ],
      "metadata": {
        "id": "irYT1okFQsJr"
      }
    },
    {
      "cell_type": "code",
      "source": [
        "v1=torch.randint(1,21,(8,))\n",
        "v2=torch.randint(1,21,(8,))\n",
        "v3=torch.randint(1,21,(10,))\n",
        "print(f\"Vector1 : \\n{v1}\")\n",
        "print(f\"Vector2 : \\n{v2}\")\n",
        "print(f\"Vector3 : \\n{v3}\")"
      ],
      "metadata": {
        "id": "16E97mriQwXu",
        "colab": {
          "base_uri": "https://localhost:8080/"
        },
        "outputId": "60083124-6276-465f-8bbd-716f6094ef18"
      },
      "execution_count": null,
      "outputs": [
        {
          "output_type": "stream",
          "name": "stdout",
          "text": [
            "Vector1 : \n",
            "tensor([ 3, 13,  7,  1, 12,  2,  9,  4])\n",
            "Vector2 : \n",
            "tensor([ 4, 12,  4, 16, 18,  5, 13, 11])\n",
            "Vector3 : \n",
            "tensor([ 6, 13, 11, 16,  6,  4,  6, 18, 13, 18])\n"
          ]
        }
      ]
    },
    {
      "cell_type": "code",
      "source": [
        "print(f\"v1+v2 =>\\n{v1+v2}\")\n",
        "# print(f\"v1+v3 =>\\n{v1+v3}\")   # Error\n",
        "print(f\"v1-v2 =>\\n{v1-v2}\")\n",
        "print(f\"v1*v2 =>\\n{v1*v2}\")\n",
        "print(f\"v1/v2 =>\\n{v1/v2}\")"
      ],
      "metadata": {
        "id": "-OvOE4YSRAp2",
        "colab": {
          "base_uri": "https://localhost:8080/",
          "height": 250
        },
        "outputId": "e9edc673-6ebb-497d-a7fc-1fe9f874b125"
      },
      "execution_count": null,
      "outputs": [
        {
          "output_type": "stream",
          "name": "stdout",
          "text": [
            "v1+v2 =>\n",
            "tensor([ 7, 25, 11, 17, 30,  7, 22, 15])\n"
          ]
        },
        {
          "output_type": "error",
          "ename": "RuntimeError",
          "evalue": "The size of tensor a (8) must match the size of tensor b (10) at non-singleton dimension 0",
          "traceback": [
            "\u001b[0;31m---------------------------------------------------------------------------\u001b[0m",
            "\u001b[0;31mRuntimeError\u001b[0m                              Traceback (most recent call last)",
            "\u001b[0;32m<ipython-input-68-1da91a2ee759>\u001b[0m in \u001b[0;36m<cell line: 2>\u001b[0;34m()\u001b[0m\n\u001b[1;32m      1\u001b[0m \u001b[0mprint\u001b[0m\u001b[0;34m(\u001b[0m\u001b[0;34mf\"v1+v2 =>\\n{v1+v2}\"\u001b[0m\u001b[0;34m)\u001b[0m\u001b[0;34m\u001b[0m\u001b[0;34m\u001b[0m\u001b[0m\n\u001b[0;32m----> 2\u001b[0;31m \u001b[0mprint\u001b[0m\u001b[0;34m(\u001b[0m\u001b[0;34mf\"v1+v3 =>\\n{v1+v3}\"\u001b[0m\u001b[0;34m)\u001b[0m   \u001b[0;31m# Error\u001b[0m\u001b[0;34m\u001b[0m\u001b[0;34m\u001b[0m\u001b[0m\n\u001b[0m\u001b[1;32m      3\u001b[0m \u001b[0mprint\u001b[0m\u001b[0;34m(\u001b[0m\u001b[0;34mf\"v1-v2 =>\\n{v1-v2}\"\u001b[0m\u001b[0;34m)\u001b[0m\u001b[0;34m\u001b[0m\u001b[0;34m\u001b[0m\u001b[0m\n\u001b[1;32m      4\u001b[0m \u001b[0mprint\u001b[0m\u001b[0;34m(\u001b[0m\u001b[0;34mf\"v1*v2 =>\\n{v1*v2}\"\u001b[0m\u001b[0;34m)\u001b[0m\u001b[0;34m\u001b[0m\u001b[0;34m\u001b[0m\u001b[0m\n\u001b[1;32m      5\u001b[0m \u001b[0mprint\u001b[0m\u001b[0;34m(\u001b[0m\u001b[0;34mf\"v1/v2 =>\\n{v1/v2}\"\u001b[0m\u001b[0;34m)\u001b[0m\u001b[0;34m\u001b[0m\u001b[0;34m\u001b[0m\u001b[0m\n",
            "\u001b[0;31mRuntimeError\u001b[0m: The size of tensor a (8) must match the size of tensor b (10) at non-singleton dimension 0"
          ]
        }
      ]
    },
    {
      "cell_type": "code",
      "source": [
        "mat1=torch.randint(1,21,(3,4))\n",
        "mat2=torch.randint(1,21,(3,4))\n",
        "mat3=torch.randint(1,21,(4,7))\n",
        "print(f\"mat1 : \\n{mat1}\\n\")\n",
        "print(f\"mat2 : \\n{mat2}\\n\")\n",
        "print(f\"mat3 : \\n{mat3}\\n\")"
      ],
      "metadata": {
        "id": "txikZkKqReX3",
        "colab": {
          "base_uri": "https://localhost:8080/"
        },
        "outputId": "1b1d64a0-e324-4c44-96bb-581dffeb98cb"
      },
      "execution_count": null,
      "outputs": [
        {
          "output_type": "stream",
          "name": "stdout",
          "text": [
            "mat1 : \n",
            "tensor([[ 2, 20,  7, 19],\n",
            "        [ 6,  7, 20, 15],\n",
            "        [ 8,  3,  3, 20]])\n",
            "\n",
            "mat2 : \n",
            "tensor([[12, 11,  1, 11],\n",
            "        [13, 11, 11,  8],\n",
            "        [ 8, 11, 10, 10]])\n",
            "\n",
            "mat3 : \n",
            "tensor([[20,  8,  2, 19, 20, 20,  8],\n",
            "        [17,  4,  8,  5, 18, 14,  4],\n",
            "        [13, 17,  8,  3,  5, 20, 15],\n",
            "        [18, 13, 13,  6, 17, 11,  7]])\n",
            "\n"
          ]
        }
      ]
    },
    {
      "cell_type": "code",
      "source": [
        "print(f\"mat1+mat2 =>\\n{mat1+mat2}\")\n",
        "print(f\"mat1-mat2 =>\\n{mat1-mat2}\")\n",
        "print(f\"mat1/mat2 =>\\n{mat1/mat2}\")\n",
        "print(f\"mat1*mat2 =>\\n{mat1*mat2}\")\n",
        "\n",
        "print(f\"mat1*mat3 =>\\n{mat1@mat3}\")\n",
        "print(f\"mat1*mat3 =>\\n{torch.matmul(mat1,mat3) }\")\n"
      ],
      "metadata": {
        "id": "oBGDgpObSA8O",
        "colab": {
          "base_uri": "https://localhost:8080/"
        },
        "outputId": "b6c6f575-faa1-4806-a364-e6a36a416855"
      },
      "execution_count": null,
      "outputs": [
        {
          "output_type": "stream",
          "name": "stdout",
          "text": [
            "mat1+mat2 =>\n",
            "tensor([[14, 31,  8, 30],\n",
            "        [19, 18, 31, 23],\n",
            "        [16, 14, 13, 30]])\n",
            "mat1-mat2 =>\n",
            "tensor([[-10,   9,   6,   8],\n",
            "        [ -7,  -4,   9,   7],\n",
            "        [  0,  -8,  -7,  10]])\n",
            "mat1/mat2 =>\n",
            "tensor([[0.1667, 1.8182, 7.0000, 1.7273],\n",
            "        [0.4615, 0.6364, 1.8182, 1.8750],\n",
            "        [1.0000, 0.2727, 0.3000, 2.0000]])\n",
            "mat1*mat2 =>\n",
            "tensor([[ 24, 220,   7, 209],\n",
            "        [ 78,  77, 220, 120],\n",
            "        [ 64,  33,  30, 200]])\n",
            "mat1*mat3 =>\n",
            "tensor([[813, 462, 467, 273, 758, 669, 334],\n",
            "        [769, 611, 423, 299, 601, 783, 481],\n",
            "        [610, 387, 324, 296, 569, 482, 261]])\n",
            "mat1*mat3 =>\n",
            "tensor([[813, 462, 467, 273, 758, 669, 334],\n",
            "        [769, 611, 423, 299, 601, 783, 481],\n",
            "        [610, 387, 324, 296, 569, 482, 261]])\n"
          ]
        }
      ]
    },
    {
      "cell_type": "markdown",
      "source": [
        "### Tensor Indexing"
      ],
      "metadata": {
        "id": "2JZh7HZGFK7t"
      }
    },
    {
      "cell_type": "code",
      "source": [
        "torch.manual_seed(42)\n",
        "vector_data=torch.randint(1,21,(8,))\n",
        "vector_data"
      ],
      "metadata": {
        "id": "tsv-xaoC-hWO",
        "colab": {
          "base_uri": "https://localhost:8080/"
        },
        "outputId": "07f45e02-f5aa-49d0-9d25-51fcdc5d5bfc"
      },
      "execution_count": null,
      "outputs": [
        {
          "output_type": "execute_result",
          "data": {
            "text/plain": [
              "tensor([ 3,  8, 17, 15,  7, 16,  1,  5])"
            ]
          },
          "metadata": {},
          "execution_count": 82
        }
      ]
    },
    {
      "cell_type": "code",
      "source": [
        "print(vector_data[0])\n",
        "print(vector_data[2])\n",
        "print(vector_data[-2])"
      ],
      "metadata": {
        "id": "K_And1iRJ8lo",
        "colab": {
          "base_uri": "https://localhost:8080/"
        },
        "outputId": "00db6dd7-831c-4316-a728-21083c269adc"
      },
      "execution_count": null,
      "outputs": [
        {
          "output_type": "stream",
          "name": "stdout",
          "text": [
            "tensor(3)\n",
            "tensor(17)\n",
            "tensor(1)\n"
          ]
        }
      ]
    },
    {
      "cell_type": "code",
      "source": [
        "mat_data=torch.randint(1,21,(3,6))\n",
        "mat_data"
      ],
      "metadata": {
        "id": "EQCnylOK-hTU",
        "colab": {
          "base_uri": "https://localhost:8080/"
        },
        "outputId": "63c2e794-7857-4c29-f028-186f55605409"
      },
      "execution_count": null,
      "outputs": [
        {
          "output_type": "execute_result",
          "data": {
            "text/plain": [
              "tensor([[11, 14, 19, 15, 11, 15],\n",
              "        [12, 13, 16, 16,  8,  7],\n",
              "        [10, 17, 14, 12, 20, 14]])"
            ]
          },
          "metadata": {},
          "execution_count": 85
        }
      ]
    },
    {
      "cell_type": "code",
      "source": [
        "print(mat_data[0,1])\n",
        "print(mat_data[-1,1])\n",
        "print(mat_data[-1,-1])\n",
        "print(mat_data[2])"
      ],
      "metadata": {
        "id": "-NpfFt4e-hP1",
        "colab": {
          "base_uri": "https://localhost:8080/"
        },
        "outputId": "c4568810-e3d3-4dac-ac85-326249fe9c6f"
      },
      "execution_count": null,
      "outputs": [
        {
          "output_type": "stream",
          "name": "stdout",
          "text": [
            "tensor(14)\n",
            "tensor(17)\n",
            "tensor(14)\n",
            "tensor([10, 17, 14, 12, 20, 14])\n"
          ]
        }
      ]
    },
    {
      "cell_type": "markdown",
      "source": [
        "### Tensor Slicing"
      ],
      "metadata": {
        "id": "Jx72knKvKon8"
      }
    },
    {
      "cell_type": "code",
      "source": [
        "vector_data=torch.randint(1,21,(10,))\n",
        "vector_data"
      ],
      "metadata": {
        "id": "aL68SS6bKwfg",
        "colab": {
          "base_uri": "https://localhost:8080/"
        },
        "outputId": "8d6c2a80-bf91-4671-b6e7-a77b89f883d6"
      },
      "execution_count": null,
      "outputs": [
        {
          "output_type": "execute_result",
          "data": {
            "text/plain": [
              "tensor([ 2, 10,  8, 20, 13,  1, 16, 10, 14,  5])"
            ]
          },
          "metadata": {},
          "execution_count": 87
        }
      ]
    },
    {
      "cell_type": "code",
      "source": [
        "print(vector_data[2:6])\n",
        "print(vector_data[:6])\n",
        "print(vector_data[2:])\n",
        "print(vector_data[:])\n",
        "print(vector_data[:-1])\n",
        "print(vector_data[::2])"
      ],
      "metadata": {
        "id": "dm7ebayZKx5W",
        "colab": {
          "base_uri": "https://localhost:8080/"
        },
        "outputId": "7330781c-6361-40a8-a408-3fc052e4e422"
      },
      "execution_count": null,
      "outputs": [
        {
          "output_type": "stream",
          "name": "stdout",
          "text": [
            "tensor([ 8, 20, 13,  1])\n",
            "tensor([ 2, 10,  8, 20, 13,  1])\n",
            "tensor([ 8, 20, 13,  1, 16, 10, 14,  5])\n",
            "tensor([ 2, 10,  8, 20, 13,  1, 16, 10, 14,  5])\n",
            "tensor([ 2, 10,  8, 20, 13,  1, 16, 10, 14])\n",
            "tensor([ 2,  8, 13, 16, 14])\n"
          ]
        }
      ]
    },
    {
      "cell_type": "code",
      "source": [
        "mat_data=torch.randint(1,21,(7,8))\n",
        "mat_data"
      ],
      "metadata": {
        "id": "38mcOTaz0uCT",
        "colab": {
          "base_uri": "https://localhost:8080/"
        },
        "outputId": "c0ad6365-6393-46b2-b022-a62ca7530a2d"
      },
      "execution_count": null,
      "outputs": [
        {
          "output_type": "execute_result",
          "data": {
            "text/plain": [
              "tensor([[20, 17, 13, 11,  7,  3, 18, 20],\n",
              "        [ 8,  4,  4, 15, 14, 18, 11, 10],\n",
              "        [11, 20,  7, 20, 16,  5, 19,  9],\n",
              "        [ 7, 11,  1,  1, 11,  2,  4,  1],\n",
              "        [12,  2, 18, 10,  5, 14,  9, 10],\n",
              "        [ 4,  8, 19, 12, 15, 12, 17,  4],\n",
              "        [ 3, 11, 10,  9, 16, 14,  8,  8]])"
            ]
          },
          "metadata": {},
          "execution_count": 89
        }
      ]
    },
    {
      "cell_type": "code",
      "source": [
        "print(mat_data[2:5,1:3])\n",
        "print(mat_data[:,1:3])\n",
        "print(mat_data[2:5,:])\n",
        "print(mat_data[:5,4:])\n",
        "print(mat_data[:,:])"
      ],
      "metadata": {
        "id": "CDqQNNE2LRA0",
        "colab": {
          "base_uri": "https://localhost:8080/"
        },
        "outputId": "788703fb-91de-4e7c-d022-901d8b826506"
      },
      "execution_count": null,
      "outputs": [
        {
          "output_type": "stream",
          "name": "stdout",
          "text": [
            "tensor([[20,  7],\n",
            "        [11,  1],\n",
            "        [ 2, 18]])\n",
            "tensor([[17, 13],\n",
            "        [ 4,  4],\n",
            "        [20,  7],\n",
            "        [11,  1],\n",
            "        [ 2, 18],\n",
            "        [ 8, 19],\n",
            "        [11, 10]])\n",
            "tensor([[11, 20,  7, 20, 16,  5, 19,  9],\n",
            "        [ 7, 11,  1,  1, 11,  2,  4,  1],\n",
            "        [12,  2, 18, 10,  5, 14,  9, 10]])\n",
            "tensor([[ 7,  3, 18, 20],\n",
            "        [14, 18, 11, 10],\n",
            "        [16,  5, 19,  9],\n",
            "        [11,  2,  4,  1],\n",
            "        [ 5, 14,  9, 10]])\n",
            "tensor([[20, 17, 13, 11,  7,  3, 18, 20],\n",
            "        [ 8,  4,  4, 15, 14, 18, 11, 10],\n",
            "        [11, 20,  7, 20, 16,  5, 19,  9],\n",
            "        [ 7, 11,  1,  1, 11,  2,  4,  1],\n",
            "        [12,  2, 18, 10,  5, 14,  9, 10],\n",
            "        [ 4,  8, 19, 12, 15, 12, 17,  4],\n",
            "        [ 3, 11, 10,  9, 16, 14,  8,  8]])\n"
          ]
        }
      ]
    },
    {
      "cell_type": "code",
      "source": [
        "ten_data = torch.randint(1,20,(3, 5, 8))\n",
        "ten_data"
      ],
      "metadata": {
        "id": "wGoWBwFeLQ4g",
        "colab": {
          "base_uri": "https://localhost:8080/"
        },
        "outputId": "1867e33b-1776-4cfe-fc49-e8eae6fdecb8"
      },
      "execution_count": null,
      "outputs": [
        {
          "output_type": "execute_result",
          "data": {
            "text/plain": [
              "tensor([[[ 2, 12, 17, 16,  4,  9,  7, 14],\n",
              "         [18,  6,  8,  8, 13,  2, 12,  6],\n",
              "         [17,  2,  5,  7, 13, 19, 11,  8],\n",
              "         [ 4,  5, 15, 11,  5, 19, 18,  8],\n",
              "         [16,  2,  6,  7,  4,  1, 19, 12]],\n",
              "\n",
              "        [[18,  3, 16, 19, 10, 18,  4,  3],\n",
              "         [17, 11, 16,  8, 18,  5,  1,  4],\n",
              "         [ 8,  3, 15, 15,  1, 13,  8, 10],\n",
              "         [ 8,  9, 17,  4, 15, 18, 11,  5],\n",
              "         [ 6, 17,  9,  2,  5,  2,  9, 10]],\n",
              "\n",
              "        [[16,  1,  4,  8, 13, 19, 11, 17],\n",
              "         [ 6, 11,  6,  6, 18,  3, 17, 13],\n",
              "         [ 3, 19,  3,  1,  8, 18,  6,  3],\n",
              "         [ 3,  3, 15, 14,  8, 14, 19,  5],\n",
              "         [ 9, 10,  5, 12,  4, 13,  6, 18]]])"
            ]
          },
          "metadata": {},
          "execution_count": 98
        }
      ]
    },
    {
      "cell_type": "code",
      "source": [
        "# print(ten_data[1:2, :4, 2:])\n",
        "# print(ten_data[2])\n",
        "# print(ten_data[...])        # علامت ... Ellipsis\n",
        "print(ten_data[...,2,5])\n"
      ],
      "metadata": {
        "id": "YhOxcC25OiR-",
        "colab": {
          "base_uri": "https://localhost:8080/"
        },
        "outputId": "33cf3dbe-18cb-4881-e113-ee9f42327d42"
      },
      "execution_count": null,
      "outputs": [
        {
          "output_type": "stream",
          "name": "stdout",
          "text": [
            "tensor([19, 13, 18])\n"
          ]
        }
      ]
    },
    {
      "cell_type": "markdown",
      "source": [
        "### Tensor ReShape"
      ],
      "metadata": {
        "id": "y0cywPZ7TsK7"
      }
    },
    {
      "cell_type": "code",
      "source": [
        "vector_data=torch.randint(1,21,(30,))\n",
        "print(vector_data)\n",
        "print(vector_data.shape)"
      ],
      "metadata": {
        "id": "XIxosLjLTufN",
        "colab": {
          "base_uri": "https://localhost:8080/"
        },
        "outputId": "376716af-6a41-4131-868b-502f0c66546a"
      },
      "execution_count": null,
      "outputs": [
        {
          "output_type": "stream",
          "name": "stdout",
          "text": [
            "tensor([ 8,  4,  3, 20, 12, 14, 20,  1, 20, 16, 19, 13,  4,  8, 18,  4, 20, 18,\n",
            "         7, 20, 18, 13, 11,  1, 17, 14,  4, 10,  2, 10])\n",
            "torch.Size([30])\n"
          ]
        }
      ]
    },
    {
      "cell_type": "code",
      "source": [
        "vector_data.reshape(1 ,3,5,2)"
      ],
      "metadata": {
        "id": "22ypfI5NUXeS",
        "colab": {
          "base_uri": "https://localhost:8080/"
        },
        "outputId": "da2a4933-4cf8-4570-c833-6e4bfaf83d3c"
      },
      "execution_count": null,
      "outputs": [
        {
          "output_type": "execute_result",
          "data": {
            "text/plain": [
              "tensor([[[[ 8,  4],\n",
              "          [ 3, 20],\n",
              "          [12, 14],\n",
              "          [20,  1],\n",
              "          [20, 16]],\n",
              "\n",
              "         [[19, 13],\n",
              "          [ 4,  8],\n",
              "          [18,  4],\n",
              "          [20, 18],\n",
              "          [ 7, 20]],\n",
              "\n",
              "         [[18, 13],\n",
              "          [11,  1],\n",
              "          [17, 14],\n",
              "          [ 4, 10],\n",
              "          [ 2, 10]]]])"
            ]
          },
          "metadata": {},
          "execution_count": 106
        }
      ]
    },
    {
      "cell_type": "markdown",
      "source": [
        "#### UnSqueeze"
      ],
      "metadata": {
        "id": "io2Troovcz3s"
      }
    },
    {
      "cell_type": "code",
      "source": [
        "vector_data1=torch.randint(1,21,(8,))\n",
        "print(f\"vector_data1.shape : {vector_data1.shape}\")\n",
        "print(f\"vector_data1 : {vector_data1}\")\n",
        "print(100*\"*\")\n",
        "\n",
        "vector_data2=vector_data1.unsqueeze(0)\n",
        "print(f\"vector_data2.shape : {vector_data2.shape}\")\n",
        "print(f\"vector_data2 : {vector_data2}\")\n",
        "print(100*\"*\")\n",
        "\n",
        "vector_data3=vector_data1.unsqueeze(1)\n",
        "print(f\"vector_data2.shape : {vector_data3.shape}\")\n",
        "print(f\"vector_data2 : {vector_data3}\")"
      ],
      "metadata": {
        "id": "CWVV9_-OWalY",
        "colab": {
          "base_uri": "https://localhost:8080/"
        },
        "outputId": "901c9522-808e-4ba3-95d2-759cf0d79afe"
      },
      "execution_count": null,
      "outputs": [
        {
          "output_type": "stream",
          "name": "stdout",
          "text": [
            "vector_data1.shape : torch.Size([8])\n",
            "vector_data1 : tensor([14, 11, 12,  1, 13,  8,  5, 12])\n",
            "****************************************************************************************************\n",
            "vector_data2.shape : torch.Size([1, 8])\n",
            "vector_data2 : tensor([[14, 11, 12,  1, 13,  8,  5, 12]])\n",
            "****************************************************************************************************\n",
            "vector_data2.shape : torch.Size([8, 1])\n",
            "vector_data2 : tensor([[14],\n",
            "        [11],\n",
            "        [12],\n",
            "        [ 1],\n",
            "        [13],\n",
            "        [ 8],\n",
            "        [ 5],\n",
            "        [12]])\n"
          ]
        }
      ]
    },
    {
      "cell_type": "code",
      "source": [
        "mat_data1=torch.randint(1,21,(3,5))\n",
        "print(f\"mat_data1.shape : {mat_data1.shape}\")\n",
        "print(f\"mat_data1 : \\n{mat_data1}\")\n",
        "print(100*\"*\")\n",
        "\n",
        "\n",
        "mat_data2=mat_data1.unsqueeze(0)\n",
        "print(f\"mat_data2.shape : {mat_data2.shape}\")\n",
        "print(f\"mat_data2 : \\n{mat_data2}\")\n",
        "print(100*\"*\")\n",
        "\n",
        "mat_data3=mat_data1.unsqueeze(1)\n",
        "print(f\"mat_data3.shape : {mat_data3.shape}\")\n",
        "print(f\"mat_data3 : \\n{mat_data3}\")\n",
        "print(100*\"*\")\n",
        "\n",
        "mat_data4=mat_data1.unsqueeze(2)\n",
        "print(f\"mat_data4.shape : {mat_data4.shape}\")\n",
        "print(f\"mat_data4 : \\n{mat_data4}\")\n",
        "print(100*\"*\")"
      ],
      "metadata": {
        "id": "uRvoRD4oXKZy",
        "colab": {
          "base_uri": "https://localhost:8080/"
        },
        "outputId": "fc4f7157-b916-4928-c186-0bdd9ed31e70"
      },
      "execution_count": null,
      "outputs": [
        {
          "output_type": "stream",
          "name": "stdout",
          "text": [
            "mat_data1.shape : torch.Size([3, 5])\n",
            "mat_data1 : \n",
            "tensor([[20, 17, 13, 18, 17],\n",
            "        [19, 19, 12, 13, 16],\n",
            "        [ 3, 17,  5, 20,  3]])\n",
            "****************************************************************************************************\n",
            "mat_data2.shape : torch.Size([1, 3, 5])\n",
            "mat_data2 : \n",
            "tensor([[[20, 17, 13, 18, 17],\n",
            "         [19, 19, 12, 13, 16],\n",
            "         [ 3, 17,  5, 20,  3]]])\n",
            "****************************************************************************************************\n",
            "mat_data3.shape : torch.Size([3, 1, 5])\n",
            "mat_data3 : \n",
            "tensor([[[20, 17, 13, 18, 17]],\n",
            "\n",
            "        [[19, 19, 12, 13, 16]],\n",
            "\n",
            "        [[ 3, 17,  5, 20,  3]]])\n",
            "****************************************************************************************************\n",
            "mat_data4.shape : torch.Size([3, 5, 1])\n",
            "mat_data4 : \n",
            "tensor([[[20],\n",
            "         [17],\n",
            "         [13],\n",
            "         [18],\n",
            "         [17]],\n",
            "\n",
            "        [[19],\n",
            "         [19],\n",
            "         [12],\n",
            "         [13],\n",
            "         [16]],\n",
            "\n",
            "        [[ 3],\n",
            "         [17],\n",
            "         [ 5],\n",
            "         [20],\n",
            "         [ 3]]])\n",
            "****************************************************************************************************\n"
          ]
        }
      ]
    },
    {
      "cell_type": "markdown",
      "source": [
        "#### Squeeze"
      ],
      "metadata": {
        "id": "O3s-co5Scuzi"
      }
    },
    {
      "cell_type": "code",
      "source": [
        "tens_data1 = torch.randint(1,21,(1, 3, 1, 1,5))\n",
        "print(f\"tens_data1.shape : {tens_data1.shape}\")\n",
        "print(f\"tens_data1 : \\n{tens_data1}\")\n",
        "print(100*\"*\")\n",
        "\n",
        "tens_data2 = tens_data1.squeeze(0)\n",
        "print(f\"tens_data2.shape : {tens_data2.shape}\")\n",
        "print(f\"tens_data2 : \\n{tens_data2}\")\n",
        "print(100*\"*\")\n",
        "\n",
        "tens_data3 = tens_data2.squeeze(1)\n",
        "print(f\"tens_data3.shape : {tens_data3.shape}\")\n",
        "print(f\"tens_data3 : \\n{tens_data3}\")\n",
        "print(100*\"*\")\n",
        "\n",
        "tens_data4 = tens_data3.squeeze(1)\n",
        "print(f\"tens_data4.shape : {tens_data4.shape}\")\n",
        "print(f\"tens_data4 : \\n{tens_data4}\")\n",
        "print(100*\"*\")\n",
        "\n",
        "tens_data5=tens_data4.reshape(15,)\n",
        "print(f\"tens_data5.shape : {tens_data5.shape}\")\n",
        "print(f\"tens_data5 : \\n{tens_data5}\")\n",
        "print(100*\"*\")"
      ],
      "metadata": {
        "id": "O-fb7jagaXjX",
        "colab": {
          "base_uri": "https://localhost:8080/"
        },
        "outputId": "39fcaf28-024b-4d0d-e1c5-6fe7e8b8d3db"
      },
      "execution_count": null,
      "outputs": [
        {
          "output_type": "stream",
          "name": "stdout",
          "text": [
            "tens_data1.shape : torch.Size([1, 3, 1, 1, 5])\n",
            "tens_data1 : \n",
            "tensor([[[[[ 9, 16, 13, 16,  5]]],\n",
            "\n",
            "\n",
            "         [[[ 4, 20, 10,  4,  6]]],\n",
            "\n",
            "\n",
            "         [[[20,  7,  7, 15,  8]]]]])\n",
            "****************************************************************************************************\n",
            "tens_data2.shape : torch.Size([3, 1, 1, 5])\n",
            "tens_data2 : \n",
            "tensor([[[[ 9, 16, 13, 16,  5]]],\n",
            "\n",
            "\n",
            "        [[[ 4, 20, 10,  4,  6]]],\n",
            "\n",
            "\n",
            "        [[[20,  7,  7, 15,  8]]]])\n",
            "****************************************************************************************************\n",
            "tens_data3.shape : torch.Size([3, 1, 5])\n",
            "tens_data3 : \n",
            "tensor([[[ 9, 16, 13, 16,  5]],\n",
            "\n",
            "        [[ 4, 20, 10,  4,  6]],\n",
            "\n",
            "        [[20,  7,  7, 15,  8]]])\n",
            "****************************************************************************************************\n",
            "tens_data4.shape : torch.Size([3, 5])\n",
            "tens_data4 : \n",
            "tensor([[ 9, 16, 13, 16,  5],\n",
            "        [ 4, 20, 10,  4,  6],\n",
            "        [20,  7,  7, 15,  8]])\n",
            "****************************************************************************************************\n",
            "tens_data5.shape : torch.Size([15])\n",
            "tens_data5 : \n",
            "tensor([ 9, 16, 13, 16,  5,  4, 20, 10,  4,  6, 20,  7,  7, 15,  8])\n",
            "****************************************************************************************************\n"
          ]
        }
      ]
    },
    {
      "cell_type": "markdown",
      "source": [
        "### Numpy and PyTorch"
      ],
      "metadata": {
        "id": "s1cnxIKUpPxJ"
      }
    },
    {
      "cell_type": "code",
      "source": [
        "nArray=np.array([12,34,546,6,5,76.34,789])\n",
        "print(f\"nArray : {nArray}\")\n",
        "print(f\"Shape : {nArray.shape}\")\n",
        "print(f\"Type : {nArray.dtype}\")"
      ],
      "metadata": {
        "id": "5RpuWHnDpT6b",
        "colab": {
          "base_uri": "https://localhost:8080/"
        },
        "outputId": "176e70d4-472f-47e4-eb50-af1b07e5f45c"
      },
      "execution_count": null,
      "outputs": [
        {
          "output_type": "stream",
          "name": "stdout",
          "text": [
            "nArray : [ 12.    34.   546.     6.     5.    76.34 789.  ]\n",
            "Shape : (7,)\n",
            "Type : float64\n"
          ]
        }
      ]
    },
    {
      "cell_type": "code",
      "source": [
        "tens=torch.tensor([12,34,546,6,5,76.34,789])\n",
        "print(f\"Tens : {tens}\")\n",
        "print(f\"Shape : {tens.shape}\")\n",
        "print(f\"Type : {tens.dtype}\")"
      ],
      "metadata": {
        "id": "jyZ2mZjGqWsi",
        "colab": {
          "base_uri": "https://localhost:8080/"
        },
        "outputId": "1eeed2af-2e65-45c6-dbdc-d1b43eba78c7"
      },
      "execution_count": null,
      "outputs": [
        {
          "output_type": "stream",
          "name": "stdout",
          "text": [
            "Tens : tensor([ 12.0000,  34.0000, 546.0000,   6.0000,   5.0000,  76.3400, 789.0000])\n",
            "Shape : torch.Size([7])\n",
            "Type : torch.float32\n"
          ]
        }
      ]
    },
    {
      "cell_type": "code",
      "source": [
        "tens=torch.tensor(nArray)\n",
        "print(f\"Tens : {tens}\")\n",
        "print(f\"Shape : {tens.shape}\")\n",
        "print(f\"Type : {tens.dtype}\")"
      ],
      "metadata": {
        "id": "XZG74vAMpanE",
        "colab": {
          "base_uri": "https://localhost:8080/"
        },
        "outputId": "ebd4bd11-e13f-46b0-c411-09d8ec87b66e"
      },
      "execution_count": null,
      "outputs": [
        {
          "output_type": "stream",
          "name": "stdout",
          "text": [
            "Tens : tensor([ 12.0000,  34.0000, 546.0000,   6.0000,   5.0000,  76.3400, 789.0000],\n",
            "       dtype=torch.float64)\n",
            "Shape : torch.Size([7])\n",
            "Type : torch.float64\n"
          ]
        }
      ]
    },
    {
      "cell_type": "code",
      "source": [
        "tens=torch.tensor(nArray,dtype=torch.float32)\n",
        "print(f\"Tens : {tens}\")\n",
        "print(f\"Shape : {tens.shape}\")\n",
        "print(f\"Type : {tens.dtype}\")"
      ],
      "metadata": {
        "id": "6D3_qQPCqH2t",
        "colab": {
          "base_uri": "https://localhost:8080/"
        },
        "outputId": "b4c39ad0-0235-403e-9c33-44b79aaf0051"
      },
      "execution_count": null,
      "outputs": [
        {
          "output_type": "stream",
          "name": "stdout",
          "text": [
            "Tens : tensor([ 12.0000,  34.0000, 546.0000,   6.0000,   5.0000,  76.3400, 789.0000])\n",
            "Shape : torch.Size([7])\n",
            "Type : torch.float32\n"
          ]
        }
      ]
    }
  ]
}