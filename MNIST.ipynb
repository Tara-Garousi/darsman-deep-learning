{
  "nbformat": 4,
  "nbformat_minor": 0,
  "metadata": {
    "colab": {
      "provenance": [],
      "collapsed_sections": [
        "2_WeRSKg_k9C",
        "qLj6AWf4_-kJ",
        "FTGYt3q-KDsC",
        "ODVTFULWHut8"
      ],
      "mount_file_id": "16uYMuPt4K2MdFofcJMNTdRMMuguOXCyL",
      "authorship_tag": "ABX9TyOq7pV6jFCtDXtoFSzSPk2Z",
      "include_colab_link": true
    },
    "kernelspec": {
      "name": "python3",
      "display_name": "Python 3"
    },
    "language_info": {
      "name": "python"
    }
  },
  "cells": [
    {
      "cell_type": "markdown",
      "metadata": {
        "id": "view-in-github",
        "colab_type": "text"
      },
      "source": [
        "<a href=\"https://colab.research.google.com/github/mehdiabbasidev/darsman-deep-learning/blob/main/MNIST.ipynb\" target=\"_parent\"><img src=\"https://colab.research.google.com/assets/colab-badge.svg\" alt=\"Open In Colab\"/></a>"
      ]
    },
    {
      "cell_type": "markdown",
      "source": [
        "### Dataset Dwonload Links:\n",
        "https://drive.google.com/file/d/1CV-qTz2bDXi0ocVaheoGMcMK9XX3De6A/view?usp=sharing\n",
        "https://drive.google.com/file/d/1gP8XWM1zLHnnA2ur8pXbLIkLCXyOwb0h/view?usp=sharing\n",
        "https://drive.google.com/file/d/1HFyfxJjFP4upcNoByaa4miGHCcMLkAZb/view?usp=sharing\n",
        "https://drive.google.com/file/d/1TVrXlc9rJituIHm1kwj3Tc7v8NedyVTq/view?usp=sharing"
      ],
      "metadata": {
        "id": "lP7mIxgADYAW"
      }
    },
    {
      "cell_type": "markdown",
      "source": [
        "### Reading target label from training file"
      ],
      "metadata": {
        "id": "2_WeRSKg_k9C"
      }
    },
    {
      "cell_type": "code",
      "execution_count": null,
      "metadata": {
        "id": "P6Ifdh9w9pQe"
      },
      "outputs": [],
      "source": [
        "import struct\n",
        "import numpy as np\n",
        "\n",
        "with open('/content/drive/MyDrive/datasets/MNIST/train-labels.idx1-ubyte', 'rb') as file:\n",
        "    magic, num_items = struct.unpack(\">II\", file.read(8))\n",
        "    train_labels = np.fromfile(file, dtype=np.uint8)\n",
        "\n",
        "print(magic)\n",
        "print(num_items)\n",
        "print(train_labels.shape)\n",
        "print(train_labels[:100])\n"
      ]
    },
    {
      "cell_type": "markdown",
      "source": [
        "### Reading image data from training file"
      ],
      "metadata": {
        "id": "qLj6AWf4_-kJ"
      }
    },
    {
      "cell_type": "code",
      "source": [
        "import struct\n",
        "import numpy as np\n",
        "import matplotlib.pyplot as plt\n",
        "\n",
        "with open('/content/drive/MyDrive/datasets/MNIST/train-images.idx3-ubyte', 'rb') as file:\n",
        "    magic, num_images, num_rows, num_cols = struct.unpack(\">IIII\", file.read(16))\n",
        "    images = np.fromfile(file, dtype=np.uint8).reshape(num_images, num_rows, num_cols)\n",
        "\n",
        "print(f'Magic number: {magic}')\n",
        "print(f'Number of images: {num_images}')\n",
        "print(f'Image size: {num_rows}x{num_cols}')\n",
        "print(100*\"*\")\n",
        "\n",
        "print(images[2])\n",
        "print(100*\"*\")\n",
        "\n",
        "plt.figure(figsize=(2, 2))\n",
        "plt.imshow(images[2], cmap='gray')\n",
        "plt.colorbar()\n",
        "plt.show()"
      ],
      "metadata": {
        "id": "K5GL_FBm_jGN"
      },
      "execution_count": null,
      "outputs": []
    },
    {
      "cell_type": "markdown",
      "source": [
        "### Display a sample of digits 0 to 9"
      ],
      "metadata": {
        "id": "FTGYt3q-KDsC"
      }
    },
    {
      "cell_type": "code",
      "source": [
        "import matplotlib.pyplot as plt\n",
        "import numpy as np\n",
        "import struct\n",
        "\n",
        "with open('/content/drive/MyDrive/datasets/MNIST/train-labels.idx1-ubyte', 'rb') as file:\n",
        "    magic, num_items = struct.unpack(\">II\", file.read(8))\n",
        "    train_labels = np.fromfile(file, dtype=np.uint8)\n",
        "\n",
        "with open('/content/drive/MyDrive/datasets/MNIST/train-images.idx3-ubyte', 'rb') as file:\n",
        "    magic, num_images, num_rows, num_cols = struct.unpack(\">IIII\", file.read(16))\n",
        "    images = np.fromfile(file, dtype=np.uint8).reshape(num_images, num_rows, num_cols)\n",
        "\n",
        "\n",
        "digits = list(range(10))\n",
        "selected_images = []\n",
        "selected_labels = []\n",
        "\n",
        "for digit in digits:\n",
        "    index = np.where(train_labels == digit)[0][0]\n",
        "    selected_images.append(images[index])\n",
        "    selected_labels.append(train_labels[index])\n",
        "\n",
        "fig, axes = plt.subplots(2, 5, figsize=(10, 5))\n",
        "axes = axes.flatten()\n",
        "\n",
        "for i in range(10):\n",
        "    axes[i].imshow(selected_images[i])\n",
        "    axes[i].set_title(f\"Label: {selected_labels[i]}\")\n",
        "\n",
        "plt.tight_layout()\n",
        "plt.show()"
      ],
      "metadata": {
        "id": "jSJTrENxCCYA"
      },
      "execution_count": null,
      "outputs": []
    },
    {
      "cell_type": "markdown",
      "source": [
        "### MNIST dataset from keras datases"
      ],
      "metadata": {
        "id": "ODVTFULWHut8"
      }
    },
    {
      "cell_type": "code",
      "source": [
        "import tensorflow as tf\n",
        "import matplotlib.pyplot as plt\n",
        "import tensorflow.keras as keras\n",
        "\n",
        "train_data, test_data = tf.keras.datasets.mnist.load_data()\n",
        "\n",
        "train_images, train_labels=train_data\n",
        "print(f\"Shape of Train Images : {train_images.shape}\")\n",
        "print(f\"Shape of Train Labels : {train_labels.shape}\")\n",
        "print(f\"Training data image size : {train_images.shape[1:]}\")\n",
        "print(f\"Train Images : \\n{20*'*'}\\n{train_images}\\n{80*'*'}\")\n",
        "# print(f\"Train Labels : \\n{20*'*'}\\n{train_labels}\\n{80*'*'}\")\n",
        "print(80*\"-\")\n",
        "\n",
        "test_images, test_labels=test_data\n",
        "print(f\"Shape of Test Images : {test_images.shape}\")\n",
        "print(f\"Shape of Test Labels : {test_labels.shape}\")\n",
        "print(f\"Test data image size : {test_images.shape[1:]}\")\n",
        "# print(f\"Test Images : \\n{20*'*'}\\n{test_images}\\n{80*'*'}\")\n",
        "# print(f\"Test Labels : \\n{20*'*'}\\n{test_labels}\\n{80*'*'}\")\n",
        "print(80*\"-\")\n",
        "\n",
        "fig, axes = plt.subplots(1, 5, figsize=(10, 5))\n",
        "axes = axes.flatten()\n",
        "for i in range(5):\n",
        "    axes[i].imshow(train_images[i], cmap='gray')\n",
        "    axes[i].set_title(f\"Label: {train_labels[i]}\")\n",
        "plt.tight_layout()\n",
        "plt.show()\n",
        "print(140*\"*\")\n",
        "\n",
        "fig, axes = plt.subplots(1, 5, figsize=(10, 5))\n",
        "axes = axes.flatten()\n",
        "for i in range(5):\n",
        "    axes[i].imshow(test_images[i], cmap='gray')\n",
        "    axes[i].set_title(f\"Label: {test_labels[i]}\")\n",
        "plt.tight_layout()\n",
        "plt.show()"
      ],
      "metadata": {
        "id": "SqYgN_ZfHvEF"
      },
      "execution_count": null,
      "outputs": []
    },
    {
      "cell_type": "code",
      "source": [
        "import tensorflow as tf\n",
        "import matplotlib.pyplot as plt\n",
        "import tensorflow.keras as keras\n",
        "\n",
        "(train_images, train_labels), (test_images, test_labels) = tf.keras.datasets.mnist.load_data()\n",
        "\n",
        "print(f\"Train Images : \\n{20*'*'}\\n{train_images[0]}\\n{80*'*'}\")\n",
        "train_images =  train_images / 255.0\n",
        "# test_images  =  test_images / 255.0\n",
        "print(f\"Train Images : \\n{20*'*'}\\n{train_images[0]}\\n{80*'*'}\")\n",
        "\n",
        "\n",
        "input_layer = keras.layers.Input(shape=(28,28))\n",
        "flatten_layer =keras.layers.Flatten()(input_layer)\n",
        "hidden_layer = keras.layers.Dense(128, activation='relu')(flatten_layer)\n",
        "output_layer = keras.layers.Dense(10, activation='softmax')(hidden_layer)\n",
        "\n",
        "model = keras.Model(inputs=input_layer, outputs=output_layer)\n",
        "\n",
        "model.summary()\n"
      ],
      "metadata": {
        "id": "p87a73cgr_7F"
      },
      "execution_count": null,
      "outputs": []
    },
    {
      "cell_type": "code",
      "source": [
        "import numpy as np\n",
        "import tensorflow as tf\n",
        "import matplotlib.pyplot as plt\n",
        "import keras\n",
        "from PIL import Image\n",
        "\n",
        "(train_images, train_labels), (test_images, test_labels) = tf.keras.datasets.mnist.load_data()\n",
        "train_images =  train_images / 255.0\n",
        "test_images  =  test_images / 255.0\n",
        "\n",
        "flatten_layer= keras.layers.Flatten(input_shape=(28, 28))\n",
        "hiden_layer1 = keras.layers.Dense(128, activation='relu')\n",
        "hiden_layer2 = keras.layers.Dense(256, activation='relu')\n",
        "output_layer= keras.layers.Dense(10, activation='softmax')\n",
        "\n",
        "model = keras.models.Sequential()\n",
        "model.add(flatten_layer)\n",
        "model.add(hiden_layer1)\n",
        "model.add(hiden_layer2)\n",
        "model.add(output_layer)\n",
        "\n",
        "model.summary()\n",
        "\n",
        "model.compile(optimizer='adam',\n",
        "              loss='sparse_categorical_crossentropy',\n",
        "              metrics=['accuracy'])\n",
        "\n",
        "model.fit(train_images, train_labels, epochs=10, batch_size=32)\n",
        "\n",
        "test_loss, test_acc = model.evaluate(test_images, test_labels)\n",
        "\n",
        "print(f'Test loss: {test_loss}')\n",
        "print(f'Test accuracy: {test_acc}')\n"
      ],
      "metadata": {
        "id": "aN7VDwY6xlff"
      },
      "execution_count": null,
      "outputs": []
    },
    {
      "cell_type": "code",
      "source": [
        "for i in range(10):\n",
        "  img = Image.open('/content/drive/MyDrive/images/'+str(i)+'.png').convert('L')  # L : Convert to grayscale\n",
        "  img = img.resize((28, 28))\n",
        "  img_array = np.array(img) / 255.0\n",
        "  img_array = np.expand_dims(img_array, axis=0)\n",
        "  predictions = model.predict(img_array)\n",
        "  predicted_digit = np.argmax(predictions)\n",
        "  print(f'Original digit : {i}  => \\tPredicted digit: {predicted_digit}')\n",
        "\n",
        "keras.utils.plot_model(model, to_file='model.png', show_shapes=True, show_layer_names=True, dpi=60)\n",
        "plt.imshow(img)"
      ],
      "metadata": {
        "id": "uitDw7p-pxCg"
      },
      "execution_count": null,
      "outputs": []
    }
  ]
}